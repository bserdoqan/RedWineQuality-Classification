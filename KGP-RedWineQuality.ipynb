{
 "cells": [
  {
   "cell_type": "markdown",
   "id": "7b0894d0",
   "metadata": {
    "papermill": {
     "duration": 0.133381,
     "end_time": "2021-08-03T06:51:57.955924",
     "exception": false,
     "start_time": "2021-08-03T06:51:57.822543",
     "status": "completed"
    },
    "tags": []
   },
   "source": [
    "# Red Wine Quality Classification - Optimized Models\n",
    "\n",
    "\n",
    "**Bugra Sebati E.** - **August 2021**"
   ]
  },
  {
   "cell_type": "markdown",
   "id": "91031fe1",
   "metadata": {
    "papermill": {
     "duration": 0.119143,
     "end_time": "2021-08-03T06:51:58.187800",
     "exception": false,
     "start_time": "2021-08-03T06:51:58.068657",
     "status": "completed"
    },
    "tags": []
   },
   "source": [
    "## Introduction\n",
    "This datasets is related to red variants of the Portuguese “Vinho Verde” wine. Due to privacy and logistic issues, only physicochemical (inputs) and sensory (the output) variables are available (e.g. there is no data about grape types, wine brand, wine selling price, etc.)\n",
    "\n",
    "**What you can find on this notebook?**\n",
    "* Understanding the data\n",
    "* Exploratory Data Analysis\n",
    "* Normal distribution control\n",
    "* Unbalanced Data problem\n",
    "* Classification Models\n",
    "* Classification Models Optimization\n",
    "* Model Select"
   ]
  },
  {
   "cell_type": "markdown",
   "id": "032d39b2",
   "metadata": {
    "papermill": {
     "duration": 0.121642,
     "end_time": "2021-08-03T06:51:58.423652",
     "exception": false,
     "start_time": "2021-08-03T06:51:58.302010",
     "status": "completed"
    },
    "tags": []
   },
   "source": [
    "**Information about Red Wine :**\n",
    "\n",
    "Starting with the basics, red wine is an alcoholic beverage made by fermenting the juice of dark-skinned grapes. Red wine differs from white wine in its base material and production process. Red wine is made with dark-skinned rather than light-skinned grapes. During red wine production, the winemaker allows pressed grape juice, called must, to macerate and ferment with the dark grape skins, which adds color, flavor and tannin to the wine. Alcohol occurs when yeast converts grape sugar into ethanol and carbon dioxide. The result of these processes: Red wine.\n",
    "\n",
    "References : www.winemag.com\n",
    "\n",
    "\n",
    "![](http://media0.giphy.com/media/RNDV3Y4K0g19YY5EWd/giphy.gif)"
   ]
  },
  {
   "cell_type": "markdown",
   "id": "d4f4d6a9",
   "metadata": {
    "papermill": {
     "duration": 0.111775,
     "end_time": "2021-08-03T06:51:58.647576",
     "exception": false,
     "start_time": "2021-08-03T06:51:58.535801",
     "status": "completed"
    },
    "tags": []
   },
   "source": [
    "**What are our variables? Let's meet**\n",
    "\n",
    "* **Fixed acidity** :  Most acids involved with wine or fixed or nonvolatile.(do not evaporate readily)\n",
    "* **Volatile acidity** : The amount of acetic acid in wine, which at too high of levels can lead to an unpleasant, vinegar taste.\n",
    "* **Citric acid** :  Found in small quantities, citric acid can add 'freshness' and flavor to wines.\n",
    "* **Residual sugar** :  The amount of sugar remaining after fermentation stops, it’s rare to find wines with less than 1 gram/liter and wines with greater than 45 grams/liter are considered sweet.\n",
    "* **Chlorides** :  The amount of salt in the wine.\n",
    "* **Free sulfur dioxide** :  The free form of SO2 exists in equilibrium between molecular SO2 (as a dissolved gas) and bisulfite ion; it prevents microbial growth and the oxidation of wine.\n",
    "* **Total sulfur dioxide** :  Amount of free and bound forms of S02; in low concentrations, SO2 is mostly undetectable in wine, but at free SO2 concentrations over 50 ppm, SO2 becomes evident in the nose and taste of wine.\n",
    "* **Density** :  The density of water is close to that of water depending on the percent alcohol and sugar content.\n",
    "* **pH** :  Describes how acidic or basic a wine is on a scale from 0 (very acidic) to 14 (very basic); most wines are between 3-4 on the pH scale.\n",
    "* **Sulphates** :  A wine additive which can contribute to sulfur dioxide gas (S02) levels, wich acts as an antimicrobial and antioxidant\n",
    "* **Alcohol** :  The percent alcohol content of the wine.\n",
    "\n",
    "**Target Variable : Quality** : Based on sensory data, score between 3 and 8\n"
   ]
  },
  {
   "cell_type": "markdown",
   "id": "2be772b4",
   "metadata": {
    "papermill": {
     "duration": 0.113597,
     "end_time": "2021-08-03T06:51:58.873411",
     "exception": false,
     "start_time": "2021-08-03T06:51:58.759814",
     "status": "completed"
    },
    "tags": []
   },
   "source": [
    "**If you like this notebook,dont forget to upvote :) Thanks !**\n",
    "\n",
    "**We are ready to start. Cheers !**"
   ]
  },
  {
   "cell_type": "code",
   "execution_count": 1,
   "id": "cf947f3e",
   "metadata": {
    "execution": {
     "iopub.execute_input": "2021-08-03T06:51:59.113303Z",
     "iopub.status.busy": "2021-08-03T06:51:59.107977Z",
     "iopub.status.idle": "2021-08-03T06:52:01.812562Z",
     "shell.execute_reply": "2021-08-03T06:52:01.811437Z",
     "shell.execute_reply.started": "2021-08-03T06:22:57.632029Z"
    },
    "papermill": {
     "duration": 2.826725,
     "end_time": "2021-08-03T06:52:01.812731",
     "exception": false,
     "start_time": "2021-08-03T06:51:58.986006",
     "status": "completed"
    },
    "tags": []
   },
   "outputs": [
    {
     "data": {
      "text/html": [
       "<style type='text/css'>\n",
       ".datatable table.frame { margin-bottom: 0; }\n",
       ".datatable table.frame thead { border-bottom: none; }\n",
       ".datatable table.frame tr.coltypes td {  color: #FFFFFF;  line-height: 6px;  padding: 0 0.5em;}\n",
       ".datatable .bool    { background: #DDDD99; }\n",
       ".datatable .object  { background: #565656; }\n",
       ".datatable .int     { background: #5D9E5D; }\n",
       ".datatable .float   { background: #4040CC; }\n",
       ".datatable .str     { background: #CC4040; }\n",
       ".datatable .time    { background: #40CC40; }\n",
       ".datatable .row_index {  background: var(--jp-border-color3);  border-right: 1px solid var(--jp-border-color0);  color: var(--jp-ui-font-color3);  font-size: 9px;}\n",
       ".datatable .frame tbody td { text-align: left; }\n",
       ".datatable .frame tr.coltypes .row_index {  background: var(--jp-border-color0);}\n",
       ".datatable th:nth-child(2) { padding-left: 12px; }\n",
       ".datatable .hellipsis {  color: var(--jp-cell-editor-border-color);}\n",
       ".datatable .vellipsis {  background: var(--jp-layout-color0);  color: var(--jp-cell-editor-border-color);}\n",
       ".datatable .na {  color: var(--jp-cell-editor-border-color);  font-size: 80%;}\n",
       ".datatable .sp {  opacity: 0.25;}\n",
       ".datatable .footer { font-size: 9px; }\n",
       ".datatable .frame_dimensions {  background: var(--jp-border-color3);  border-top: 1px solid var(--jp-border-color0);  color: var(--jp-ui-font-color3);  display: inline-block;  opacity: 0.6;  padding: 1px 10px 1px 5px;}\n",
       "</style>\n"
      ],
      "text/plain": [
       "<IPython.core.display.HTML object>"
      ]
     },
     "metadata": {},
     "output_type": "display_data"
    }
   ],
   "source": [
    "#### IMPORT LIBRARIES\n",
    "\n",
    "\n",
    "import pandas as pd\n",
    "import numpy as np\n",
    "import seaborn as sns\n",
    "import matplotlib.pyplot as plt\n",
    "from scipy.stats import shapiro\n",
    "from sklearn.preprocessing import StandardScaler\n",
    "from sklearn.model_selection import train_test_split , GridSearchCV , cross_val_score\n",
    "from sklearn.metrics import confusion_matrix, accuracy_score, classification_report\n",
    "from imblearn.over_sampling import SMOTE\n",
    "from sklearn.linear_model import LogisticRegression\n",
    "from sklearn.neighbors import KNeighborsClassifier\n",
    "from sklearn.naive_bayes import GaussianNB\n",
    "from sklearn.ensemble import GradientBoostingClassifier\n",
    "from sklearn.svm import SVC\n",
    "from sklearn.neural_network import MLPClassifier\n",
    "from sklearn.tree import DecisionTreeClassifier\n",
    "from xgboost import XGBClassifier\n",
    "from sklearn.ensemble import RandomForestClassifier\n",
    "from lightgbm import LGBMClassifier\n",
    "from catboost import CatBoostClassifier\n",
    "import warnings\n",
    "warnings.filterwarnings(\"ignore\")"
   ]
  },
  {
   "cell_type": "code",
   "execution_count": 2,
   "id": "3289659e",
   "metadata": {
    "execution": {
     "iopub.execute_input": "2021-08-03T06:52:02.044277Z",
     "iopub.status.busy": "2021-08-03T06:52:02.043641Z",
     "iopub.status.idle": "2021-08-03T06:52:02.094082Z",
     "shell.execute_reply": "2021-08-03T06:52:02.094566Z",
     "shell.execute_reply.started": "2021-08-03T06:22:57.681297Z"
    },
    "papermill": {
     "duration": 0.169142,
     "end_time": "2021-08-03T06:52:02.094745",
     "exception": false,
     "start_time": "2021-08-03T06:52:01.925603",
     "status": "completed"
    },
    "tags": []
   },
   "outputs": [
    {
     "data": {
      "text/html": [
       "<div>\n",
       "<style scoped>\n",
       "    .dataframe tbody tr th:only-of-type {\n",
       "        vertical-align: middle;\n",
       "    }\n",
       "\n",
       "    .dataframe tbody tr th {\n",
       "        vertical-align: top;\n",
       "    }\n",
       "\n",
       "    .dataframe thead th {\n",
       "        text-align: right;\n",
       "    }\n",
       "</style>\n",
       "<table border=\"1\" class=\"dataframe\">\n",
       "  <thead>\n",
       "    <tr style=\"text-align: right;\">\n",
       "      <th></th>\n",
       "      <th>fixed acidity</th>\n",
       "      <th>volatile acidity</th>\n",
       "      <th>citric acid</th>\n",
       "      <th>residual sugar</th>\n",
       "      <th>chlorides</th>\n",
       "      <th>free sulfur dioxide</th>\n",
       "      <th>total sulfur dioxide</th>\n",
       "      <th>density</th>\n",
       "      <th>pH</th>\n",
       "      <th>sulphates</th>\n",
       "      <th>alcohol</th>\n",
       "      <th>quality</th>\n",
       "    </tr>\n",
       "  </thead>\n",
       "  <tbody>\n",
       "    <tr>\n",
       "      <th>0</th>\n",
       "      <td>7.4</td>\n",
       "      <td>0.70</td>\n",
       "      <td>0.00</td>\n",
       "      <td>1.9</td>\n",
       "      <td>0.076</td>\n",
       "      <td>11.0</td>\n",
       "      <td>34.0</td>\n",
       "      <td>0.9978</td>\n",
       "      <td>3.51</td>\n",
       "      <td>0.56</td>\n",
       "      <td>9.4</td>\n",
       "      <td>5</td>\n",
       "    </tr>\n",
       "    <tr>\n",
       "      <th>1</th>\n",
       "      <td>7.8</td>\n",
       "      <td>0.88</td>\n",
       "      <td>0.00</td>\n",
       "      <td>2.6</td>\n",
       "      <td>0.098</td>\n",
       "      <td>25.0</td>\n",
       "      <td>67.0</td>\n",
       "      <td>0.9968</td>\n",
       "      <td>3.20</td>\n",
       "      <td>0.68</td>\n",
       "      <td>9.8</td>\n",
       "      <td>5</td>\n",
       "    </tr>\n",
       "    <tr>\n",
       "      <th>2</th>\n",
       "      <td>7.8</td>\n",
       "      <td>0.76</td>\n",
       "      <td>0.04</td>\n",
       "      <td>2.3</td>\n",
       "      <td>0.092</td>\n",
       "      <td>15.0</td>\n",
       "      <td>54.0</td>\n",
       "      <td>0.9970</td>\n",
       "      <td>3.26</td>\n",
       "      <td>0.65</td>\n",
       "      <td>9.8</td>\n",
       "      <td>5</td>\n",
       "    </tr>\n",
       "    <tr>\n",
       "      <th>3</th>\n",
       "      <td>11.2</td>\n",
       "      <td>0.28</td>\n",
       "      <td>0.56</td>\n",
       "      <td>1.9</td>\n",
       "      <td>0.075</td>\n",
       "      <td>17.0</td>\n",
       "      <td>60.0</td>\n",
       "      <td>0.9980</td>\n",
       "      <td>3.16</td>\n",
       "      <td>0.58</td>\n",
       "      <td>9.8</td>\n",
       "      <td>6</td>\n",
       "    </tr>\n",
       "    <tr>\n",
       "      <th>4</th>\n",
       "      <td>7.4</td>\n",
       "      <td>0.70</td>\n",
       "      <td>0.00</td>\n",
       "      <td>1.9</td>\n",
       "      <td>0.076</td>\n",
       "      <td>11.0</td>\n",
       "      <td>34.0</td>\n",
       "      <td>0.9978</td>\n",
       "      <td>3.51</td>\n",
       "      <td>0.56</td>\n",
       "      <td>9.4</td>\n",
       "      <td>5</td>\n",
       "    </tr>\n",
       "  </tbody>\n",
       "</table>\n",
       "</div>"
      ],
      "text/plain": [
       "   fixed acidity  volatile acidity  citric acid  residual sugar  chlorides  \\\n",
       "0            7.4              0.70         0.00             1.9      0.076   \n",
       "1            7.8              0.88         0.00             2.6      0.098   \n",
       "2            7.8              0.76         0.04             2.3      0.092   \n",
       "3           11.2              0.28         0.56             1.9      0.075   \n",
       "4            7.4              0.70         0.00             1.9      0.076   \n",
       "\n",
       "   free sulfur dioxide  total sulfur dioxide  density    pH  sulphates  \\\n",
       "0                 11.0                  34.0   0.9978  3.51       0.56   \n",
       "1                 25.0                  67.0   0.9968  3.20       0.68   \n",
       "2                 15.0                  54.0   0.9970  3.26       0.65   \n",
       "3                 17.0                  60.0   0.9980  3.16       0.58   \n",
       "4                 11.0                  34.0   0.9978  3.51       0.56   \n",
       "\n",
       "   alcohol  quality  \n",
       "0      9.4        5  \n",
       "1      9.8        5  \n",
       "2      9.8        5  \n",
       "3      9.8        6  \n",
       "4      9.4        5  "
      ]
     },
     "execution_count": 2,
     "metadata": {},
     "output_type": "execute_result"
    }
   ],
   "source": [
    "redwine = pd.read_csv(\"../input/red-wine-quality-cortez-et-al-2009/winequality-red.csv\")\n",
    "df = redwine.copy()\n",
    "df.head()"
   ]
  },
  {
   "cell_type": "code",
   "execution_count": 3,
   "id": "0a62990a",
   "metadata": {
    "execution": {
     "iopub.execute_input": "2021-08-03T06:52:02.340710Z",
     "iopub.status.busy": "2021-08-03T06:52:02.339947Z",
     "iopub.status.idle": "2021-08-03T06:52:02.343829Z",
     "shell.execute_reply": "2021-08-03T06:52:02.343274Z",
     "shell.execute_reply.started": "2021-08-03T06:22:57.717261Z"
    },
    "papermill": {
     "duration": 0.135463,
     "end_time": "2021-08-03T06:52:02.343961",
     "exception": false,
     "start_time": "2021-08-03T06:52:02.208498",
     "status": "completed"
    },
    "tags": []
   },
   "outputs": [
    {
     "name": "stdout",
     "output_type": "stream",
     "text": [
      "<class 'pandas.core.frame.DataFrame'>\n",
      "RangeIndex: 1599 entries, 0 to 1598\n",
      "Data columns (total 12 columns):\n",
      " #   Column                Non-Null Count  Dtype  \n",
      "---  ------                --------------  -----  \n",
      " 0   fixed acidity         1599 non-null   float64\n",
      " 1   volatile acidity      1599 non-null   float64\n",
      " 2   citric acid           1599 non-null   float64\n",
      " 3   residual sugar        1599 non-null   float64\n",
      " 4   chlorides             1599 non-null   float64\n",
      " 5   free sulfur dioxide   1599 non-null   float64\n",
      " 6   total sulfur dioxide  1599 non-null   float64\n",
      " 7   density               1599 non-null   float64\n",
      " 8   pH                    1599 non-null   float64\n",
      " 9   sulphates             1599 non-null   float64\n",
      " 10  alcohol               1599 non-null   float64\n",
      " 11  quality               1599 non-null   int64  \n",
      "dtypes: float64(11), int64(1)\n",
      "memory usage: 150.0 KB\n"
     ]
    }
   ],
   "source": [
    "df.info()"
   ]
  },
  {
   "cell_type": "code",
   "execution_count": 4,
   "id": "c20d4a14",
   "metadata": {
    "execution": {
     "iopub.execute_input": "2021-08-03T06:52:02.573909Z",
     "iopub.status.busy": "2021-08-03T06:52:02.572966Z",
     "iopub.status.idle": "2021-08-03T06:52:02.622911Z",
     "shell.execute_reply": "2021-08-03T06:52:02.622250Z",
     "shell.execute_reply.started": "2021-08-03T06:22:57.766748Z"
    },
    "papermill": {
     "duration": 0.166234,
     "end_time": "2021-08-03T06:52:02.623052",
     "exception": false,
     "start_time": "2021-08-03T06:52:02.456818",
     "status": "completed"
    },
    "tags": []
   },
   "outputs": [
    {
     "data": {
      "text/html": [
       "<div>\n",
       "<style scoped>\n",
       "    .dataframe tbody tr th:only-of-type {\n",
       "        vertical-align: middle;\n",
       "    }\n",
       "\n",
       "    .dataframe tbody tr th {\n",
       "        vertical-align: top;\n",
       "    }\n",
       "\n",
       "    .dataframe thead th {\n",
       "        text-align: right;\n",
       "    }\n",
       "</style>\n",
       "<table border=\"1\" class=\"dataframe\">\n",
       "  <thead>\n",
       "    <tr style=\"text-align: right;\">\n",
       "      <th></th>\n",
       "      <th>count</th>\n",
       "      <th>mean</th>\n",
       "      <th>std</th>\n",
       "      <th>min</th>\n",
       "      <th>25%</th>\n",
       "      <th>50%</th>\n",
       "      <th>75%</th>\n",
       "      <th>max</th>\n",
       "    </tr>\n",
       "  </thead>\n",
       "  <tbody>\n",
       "    <tr>\n",
       "      <th>fixed acidity</th>\n",
       "      <td>1599.0</td>\n",
       "      <td>8.319637</td>\n",
       "      <td>1.741096</td>\n",
       "      <td>4.60000</td>\n",
       "      <td>7.1000</td>\n",
       "      <td>7.90000</td>\n",
       "      <td>9.200000</td>\n",
       "      <td>15.90000</td>\n",
       "    </tr>\n",
       "    <tr>\n",
       "      <th>volatile acidity</th>\n",
       "      <td>1599.0</td>\n",
       "      <td>0.527821</td>\n",
       "      <td>0.179060</td>\n",
       "      <td>0.12000</td>\n",
       "      <td>0.3900</td>\n",
       "      <td>0.52000</td>\n",
       "      <td>0.640000</td>\n",
       "      <td>1.58000</td>\n",
       "    </tr>\n",
       "    <tr>\n",
       "      <th>citric acid</th>\n",
       "      <td>1599.0</td>\n",
       "      <td>0.270976</td>\n",
       "      <td>0.194801</td>\n",
       "      <td>0.00000</td>\n",
       "      <td>0.0900</td>\n",
       "      <td>0.26000</td>\n",
       "      <td>0.420000</td>\n",
       "      <td>1.00000</td>\n",
       "    </tr>\n",
       "    <tr>\n",
       "      <th>residual sugar</th>\n",
       "      <td>1599.0</td>\n",
       "      <td>2.538806</td>\n",
       "      <td>1.409928</td>\n",
       "      <td>0.90000</td>\n",
       "      <td>1.9000</td>\n",
       "      <td>2.20000</td>\n",
       "      <td>2.600000</td>\n",
       "      <td>15.50000</td>\n",
       "    </tr>\n",
       "    <tr>\n",
       "      <th>chlorides</th>\n",
       "      <td>1599.0</td>\n",
       "      <td>0.087467</td>\n",
       "      <td>0.047065</td>\n",
       "      <td>0.01200</td>\n",
       "      <td>0.0700</td>\n",
       "      <td>0.07900</td>\n",
       "      <td>0.090000</td>\n",
       "      <td>0.61100</td>\n",
       "    </tr>\n",
       "    <tr>\n",
       "      <th>free sulfur dioxide</th>\n",
       "      <td>1599.0</td>\n",
       "      <td>15.874922</td>\n",
       "      <td>10.460157</td>\n",
       "      <td>1.00000</td>\n",
       "      <td>7.0000</td>\n",
       "      <td>14.00000</td>\n",
       "      <td>21.000000</td>\n",
       "      <td>72.00000</td>\n",
       "    </tr>\n",
       "    <tr>\n",
       "      <th>total sulfur dioxide</th>\n",
       "      <td>1599.0</td>\n",
       "      <td>46.467792</td>\n",
       "      <td>32.895324</td>\n",
       "      <td>6.00000</td>\n",
       "      <td>22.0000</td>\n",
       "      <td>38.00000</td>\n",
       "      <td>62.000000</td>\n",
       "      <td>289.00000</td>\n",
       "    </tr>\n",
       "    <tr>\n",
       "      <th>density</th>\n",
       "      <td>1599.0</td>\n",
       "      <td>0.996747</td>\n",
       "      <td>0.001887</td>\n",
       "      <td>0.99007</td>\n",
       "      <td>0.9956</td>\n",
       "      <td>0.99675</td>\n",
       "      <td>0.997835</td>\n",
       "      <td>1.00369</td>\n",
       "    </tr>\n",
       "    <tr>\n",
       "      <th>pH</th>\n",
       "      <td>1599.0</td>\n",
       "      <td>3.311113</td>\n",
       "      <td>0.154386</td>\n",
       "      <td>2.74000</td>\n",
       "      <td>3.2100</td>\n",
       "      <td>3.31000</td>\n",
       "      <td>3.400000</td>\n",
       "      <td>4.01000</td>\n",
       "    </tr>\n",
       "    <tr>\n",
       "      <th>sulphates</th>\n",
       "      <td>1599.0</td>\n",
       "      <td>0.658149</td>\n",
       "      <td>0.169507</td>\n",
       "      <td>0.33000</td>\n",
       "      <td>0.5500</td>\n",
       "      <td>0.62000</td>\n",
       "      <td>0.730000</td>\n",
       "      <td>2.00000</td>\n",
       "    </tr>\n",
       "    <tr>\n",
       "      <th>alcohol</th>\n",
       "      <td>1599.0</td>\n",
       "      <td>10.422983</td>\n",
       "      <td>1.065668</td>\n",
       "      <td>8.40000</td>\n",
       "      <td>9.5000</td>\n",
       "      <td>10.20000</td>\n",
       "      <td>11.100000</td>\n",
       "      <td>14.90000</td>\n",
       "    </tr>\n",
       "    <tr>\n",
       "      <th>quality</th>\n",
       "      <td>1599.0</td>\n",
       "      <td>5.636023</td>\n",
       "      <td>0.807569</td>\n",
       "      <td>3.00000</td>\n",
       "      <td>5.0000</td>\n",
       "      <td>6.00000</td>\n",
       "      <td>6.000000</td>\n",
       "      <td>8.00000</td>\n",
       "    </tr>\n",
       "  </tbody>\n",
       "</table>\n",
       "</div>"
      ],
      "text/plain": [
       "                       count       mean        std      min      25%  \\\n",
       "fixed acidity         1599.0   8.319637   1.741096  4.60000   7.1000   \n",
       "volatile acidity      1599.0   0.527821   0.179060  0.12000   0.3900   \n",
       "citric acid           1599.0   0.270976   0.194801  0.00000   0.0900   \n",
       "residual sugar        1599.0   2.538806   1.409928  0.90000   1.9000   \n",
       "chlorides             1599.0   0.087467   0.047065  0.01200   0.0700   \n",
       "free sulfur dioxide   1599.0  15.874922  10.460157  1.00000   7.0000   \n",
       "total sulfur dioxide  1599.0  46.467792  32.895324  6.00000  22.0000   \n",
       "density               1599.0   0.996747   0.001887  0.99007   0.9956   \n",
       "pH                    1599.0   3.311113   0.154386  2.74000   3.2100   \n",
       "sulphates             1599.0   0.658149   0.169507  0.33000   0.5500   \n",
       "alcohol               1599.0  10.422983   1.065668  8.40000   9.5000   \n",
       "quality               1599.0   5.636023   0.807569  3.00000   5.0000   \n",
       "\n",
       "                           50%        75%        max  \n",
       "fixed acidity          7.90000   9.200000   15.90000  \n",
       "volatile acidity       0.52000   0.640000    1.58000  \n",
       "citric acid            0.26000   0.420000    1.00000  \n",
       "residual sugar         2.20000   2.600000   15.50000  \n",
       "chlorides              0.07900   0.090000    0.61100  \n",
       "free sulfur dioxide   14.00000  21.000000   72.00000  \n",
       "total sulfur dioxide  38.00000  62.000000  289.00000  \n",
       "density                0.99675   0.997835    1.00369  \n",
       "pH                     3.31000   3.400000    4.01000  \n",
       "sulphates              0.62000   0.730000    2.00000  \n",
       "alcohol               10.20000  11.100000   14.90000  \n",
       "quality                6.00000   6.000000    8.00000  "
      ]
     },
     "execution_count": 4,
     "metadata": {},
     "output_type": "execute_result"
    }
   ],
   "source": [
    "df.describe().T"
   ]
  },
  {
   "cell_type": "markdown",
   "id": "91332ac9",
   "metadata": {
    "papermill": {
     "duration": 0.114765,
     "end_time": "2021-08-03T06:52:02.853569",
     "exception": false,
     "start_time": "2021-08-03T06:52:02.738804",
     "status": "completed"
    },
    "tags": []
   },
   "source": [
    "Any missing values in dataset?"
   ]
  },
  {
   "cell_type": "code",
   "execution_count": 5,
   "id": "a3dae54b",
   "metadata": {
    "execution": {
     "iopub.execute_input": "2021-08-03T06:52:03.090665Z",
     "iopub.status.busy": "2021-08-03T06:52:03.090047Z",
     "iopub.status.idle": "2021-08-03T06:52:03.092931Z",
     "shell.execute_reply": "2021-08-03T06:52:03.093392Z",
     "shell.execute_reply.started": "2021-08-03T06:22:57.81429Z"
    },
    "papermill": {
     "duration": 0.124634,
     "end_time": "2021-08-03T06:52:03.093560",
     "exception": false,
     "start_time": "2021-08-03T06:52:02.968926",
     "status": "completed"
    },
    "tags": []
   },
   "outputs": [
    {
     "data": {
      "text/plain": [
       "False"
      ]
     },
     "execution_count": 5,
     "metadata": {},
     "output_type": "execute_result"
    }
   ],
   "source": [
    "df.isnull().values.any()"
   ]
  },
  {
   "cell_type": "markdown",
   "id": "5f0cf9bb",
   "metadata": {
    "papermill": {
     "duration": 0.113311,
     "end_time": "2021-08-03T06:52:03.322699",
     "exception": false,
     "start_time": "2021-08-03T06:52:03.209388",
     "status": "completed"
    },
    "tags": []
   },
   "source": [
    "Now, let's look at the distribution of the target variable"
   ]
  },
  {
   "cell_type": "code",
   "execution_count": 6,
   "id": "2bd027a3",
   "metadata": {
    "execution": {
     "iopub.execute_input": "2021-08-03T06:52:03.553645Z",
     "iopub.status.busy": "2021-08-03T06:52:03.552860Z",
     "iopub.status.idle": "2021-08-03T06:52:03.739047Z",
     "shell.execute_reply": "2021-08-03T06:52:03.738428Z",
     "shell.execute_reply.started": "2021-08-03T06:22:57.836115Z"
    },
    "papermill": {
     "duration": 0.302267,
     "end_time": "2021-08-03T06:52:03.739180",
     "exception": false,
     "start_time": "2021-08-03T06:52:03.436913",
     "status": "completed"
    },
    "tags": []
   },
   "outputs": [
    {
     "data": {
      "image/png": "[encoded data removed]",
      "text/plain": [
       "<Figure size 432x288 with 1 Axes>"
      ]
     },
     "metadata": {
      "needs_background": "light"
     },
     "output_type": "display_data"
    }
   ],
   "source": [
    "sns.countplot(x = \"quality\" , data = df);"
   ]
  },
  {
   "cell_type": "code",
   "execution_count": 7,
   "id": "1f76be16",
   "metadata": {
    "execution": {
     "iopub.execute_input": "2021-08-03T06:52:04.000417Z",
     "iopub.status.busy": "2021-08-03T06:52:03.999612Z",
     "iopub.status.idle": "2021-08-03T06:52:04.145085Z",
     "shell.execute_reply": "2021-08-03T06:52:04.145620Z",
     "shell.execute_reply.started": "2021-08-03T06:22:58.042692Z"
    },
    "papermill": {
     "duration": 0.290476,
     "end_time": "2021-08-03T06:52:04.145794",
     "exception": false,
     "start_time": "2021-08-03T06:52:03.855318",
     "status": "completed"
    },
    "tags": []
   },
   "outputs": [
    {
     "data": {
      "image/png": "[encoded data removed]",
      "text/plain": [
       "<Figure size 864x504 with 1 Axes>"
      ]
     },
     "metadata": {},
     "output_type": "display_data"
    }
   ],
   "source": [
    "plt.figure(1, figsize = (12,7))\n",
    "plt.title(\"Quality distribution\", color = \"black\", fontsize = 15)\n",
    "df[\"quality\"].value_counts().plot.pie(autopct = \"%1.1f%%\");"
   ]
  },
  {
   "cell_type": "markdown",
   "id": "fdbb9a4c",
   "metadata": {
    "papermill": {
     "duration": 0.114254,
     "end_time": "2021-08-03T06:52:04.376972",
     "exception": false,
     "start_time": "2021-08-03T06:52:04.262718",
     "status": "completed"
    },
    "tags": []
   },
   "source": [
    "Let's analyze the correlation"
   ]
  },
  {
   "cell_type": "code",
   "execution_count": 8,
   "id": "bb99a47b",
   "metadata": {
    "execution": {
     "iopub.execute_input": "2021-08-03T06:52:04.610261Z",
     "iopub.status.busy": "2021-08-03T06:52:04.609649Z",
     "iopub.status.idle": "2021-08-03T06:52:05.764717Z",
     "shell.execute_reply": "2021-08-03T06:52:05.765161Z",
     "shell.execute_reply.started": "2021-08-03T06:22:58.189563Z"
    },
    "papermill": {
     "duration": 1.274127,
     "end_time": "2021-08-03T06:52:05.765330",
     "exception": false,
     "start_time": "2021-08-03T06:52:04.491203",
     "status": "completed"
    },
    "tags": []
   },
   "outputs": [
    {
     "data": {
      "image/png": "[encoded data removed]",
      "text/plain": [
       "<Figure size 792x576 with 2 Axes>"
      ]
     },
     "metadata": {
      "needs_background": "light"
     },
     "output_type": "display_data"
    }
   ],
   "source": [
    "plt.figure(figsize = (11,8))\n",
    "sns.set(font_scale = 1.1)\n",
    "sns.heatmap(df.corr() , cmap = \"RdYlGn\", annot = True, fmt = \".2f\", annot_kws = {\"size\": 12});"
   ]
  },
  {
   "cell_type": "markdown",
   "id": "3b74445a",
   "metadata": {
    "papermill": {
     "duration": 0.120082,
     "end_time": "2021-08-03T06:52:06.053611",
     "exception": false,
     "start_time": "2021-08-03T06:52:05.933529",
     "status": "completed"
    },
    "tags": []
   },
   "source": [
    "Highest **positive** correlation : alcohol (0.48) **Moderate degree**\n",
    "\n",
    "Highest **negative** correlation : volatile acidity(-0.39) **Moderate degree**"
   ]
  },
  {
   "cell_type": "markdown",
   "id": "8cc2bc20",
   "metadata": {
    "papermill": {
     "duration": 0.117112,
     "end_time": "2021-08-03T06:52:06.287993",
     "exception": false,
     "start_time": "2021-08-03T06:52:06.170881",
     "status": "completed"
    },
    "tags": []
   },
   "source": [
    "Now, we will look at the distribution and skewness and kurtosis value of all variables.\n",
    "\n",
    "We will test the normality distribution with the Shapiro-Wilk test."
   ]
  },
  {
   "cell_type": "markdown",
   "id": "fe14c627",
   "metadata": {
    "papermill": {
     "duration": 0.119599,
     "end_time": "2021-08-03T06:52:06.524854",
     "exception": false,
     "start_time": "2021-08-03T06:52:06.405255",
     "status": "completed"
    },
    "tags": []
   },
   "source": [
    "#### **Shapiro-Wilk Test :**\n",
    "Tests whether a data sample has a Normal distribution.\n",
    "\n",
    "**Assumption** : Observations in each sample are independent and distributed identically.\n",
    "\n",
    "**Hypothesis** : \n",
    "\n",
    "**H0**: the sample has a Normal distribution.\n",
    "\n",
    "**H1**: the sample does not have a Normal distribution.\n",
    "\n",
    "If pvalue is less than 0.05, there is no normal distribution"
   ]
  },
  {
   "cell_type": "markdown",
   "id": "5ff18e26",
   "metadata": {
    "papermill": {
     "duration": 0.121752,
     "end_time": "2021-08-03T06:52:06.770985",
     "exception": false,
     "start_time": "2021-08-03T06:52:06.649233",
     "status": "completed"
    },
    "tags": []
   },
   "source": [
    "#### Fixed acidity"
   ]
  },
  {
   "cell_type": "code",
   "execution_count": 9,
   "id": "015dc8ba",
   "metadata": {
    "execution": {
     "iopub.execute_input": "2021-08-03T06:52:07.038660Z",
     "iopub.status.busy": "2021-08-03T06:52:07.037975Z",
     "iopub.status.idle": "2021-08-03T06:52:07.492698Z",
     "shell.execute_reply": "2021-08-03T06:52:07.492007Z",
     "shell.execute_reply.started": "2021-08-03T06:22:59.706042Z"
    },
    "papermill": {
     "duration": 0.601377,
     "end_time": "2021-08-03T06:52:07.492838",
     "exception": false,
     "start_time": "2021-08-03T06:52:06.891461",
     "status": "completed"
    },
    "tags": []
   },
   "outputs": [
    {
     "data": {
      "image/png": "[encoded data removed]",
      "text/plain": [
       "<Figure size 432x288 with 1 Axes>"
      ]
     },
     "metadata": {},
     "output_type": "display_data"
    }
   ],
   "source": [
    "sns.distplot(df[\"fixed acidity\"] , color = \"r\", bins = 60 , hist_kws = {\"alpha\": 0.4});"
   ]
  },
  {
   "cell_type": "code",
   "execution_count": 10,
   "id": "bb8e532d",
   "metadata": {
    "execution": {
     "iopub.execute_input": "2021-08-03T06:52:07.743697Z",
     "iopub.status.busy": "2021-08-03T06:52:07.742847Z",
     "iopub.status.idle": "2021-08-03T06:52:07.747471Z",
     "shell.execute_reply": "2021-08-03T06:52:07.748403Z",
     "shell.execute_reply.started": "2021-08-03T06:23:00.069074Z"
    },
    "papermill": {
     "duration": 0.13298,
     "end_time": "2021-08-03T06:52:07.748636",
     "exception": false,
     "start_time": "2021-08-03T06:52:07.615656",
     "status": "completed"
    },
    "tags": []
   },
   "outputs": [
    {
     "name": "stdout",
     "output_type": "stream",
     "text": [
      "Skewness: 0.982751\n",
      "Kurtosis: 1.132143\n",
      "Shapiro Test Statistic = 0.9420, p-value = 0.0000\n"
     ]
    }
   ],
   "source": [
    "print(\"Skewness: %f\" % df[\"fixed acidity\"].skew())\n",
    "print(\"Kurtosis: %f\" % df[\"fixed acidity\"].kurt())\n",
    "test_statistic, pvalue = shapiro(df[\"fixed acidity\"])\n",
    "print('Shapiro Test Statistic = %.4f, p-value = %.4f' % (test_statistic, pvalue))"
   ]
  },
  {
   "cell_type": "markdown",
   "id": "ed90978c",
   "metadata": {
    "papermill": {
     "duration": 0.122438,
     "end_time": "2021-08-03T06:52:07.998167",
     "exception": false,
     "start_time": "2021-08-03T06:52:07.875729",
     "status": "completed"
    },
    "tags": []
   },
   "source": [
    "#### Volatile acidity"
   ]
  },
  {
   "cell_type": "code",
   "execution_count": 11,
   "id": "a2272711",
   "metadata": {
    "execution": {
     "iopub.execute_input": "2021-08-03T06:52:08.268911Z",
     "iopub.status.busy": "2021-08-03T06:52:08.268224Z",
     "iopub.status.idle": "2021-08-03T06:52:08.617555Z",
     "shell.execute_reply": "2021-08-03T06:52:08.617999Z",
     "shell.execute_reply.started": "2021-08-03T06:23:00.078138Z"
    },
    "papermill": {
     "duration": 0.497446,
     "end_time": "2021-08-03T06:52:08.618185",
     "exception": false,
     "start_time": "2021-08-03T06:52:08.120739",
     "status": "completed"
    },
    "tags": []
   },
   "outputs": [
    {
     "data": {
      "image/png": "[encoded data removed]",
      "text/plain": [
       "<Figure size 432x288 with 1 Axes>"
      ]
     },
     "metadata": {},
     "output_type": "display_data"
    }
   ],
   "source": [
    "sns.distplot(df[\"volatile acidity\"] , color = \"r\", bins = 60 , hist_kws = {\"alpha\": 0.4});"
   ]
  },
  {
   "cell_type": "code",
   "execution_count": 12,
   "id": "3a901ee9",
   "metadata": {
    "execution": {
     "iopub.execute_input": "2021-08-03T06:52:08.865586Z",
     "iopub.status.busy": "2021-08-03T06:52:08.864918Z",
     "iopub.status.idle": "2021-08-03T06:52:08.871809Z",
     "shell.execute_reply": "2021-08-03T06:52:08.872336Z",
     "shell.execute_reply.started": "2021-08-03T06:23:00.456094Z"
    },
    "papermill": {
     "duration": 0.132347,
     "end_time": "2021-08-03T06:52:08.872519",
     "exception": false,
     "start_time": "2021-08-03T06:52:08.740172",
     "status": "completed"
    },
    "tags": []
   },
   "outputs": [
    {
     "name": "stdout",
     "output_type": "stream",
     "text": [
      "Skewness: 0.671593\n",
      "Kurtosis: 1.225542\n",
      "Shapiro Test Statistic = 0.9743, p-value = 0.0000\n"
     ]
    }
   ],
   "source": [
    "print(\"Skewness: %f\" % df[\"volatile acidity\"].skew())\n",
    "print(\"Kurtosis: %f\" % df[\"volatile acidity\"].kurt())\n",
    "test_statistic, pvalue = shapiro(df[\"volatile acidity\"])\n",
    "print('Shapiro Test Statistic = %.4f, p-value = %.4f' % (test_statistic, pvalue))"
   ]
  },
  {
   "cell_type": "markdown",
   "id": "dd62f0c3",
   "metadata": {
    "papermill": {
     "duration": 0.121621,
     "end_time": "2021-08-03T06:52:09.117830",
     "exception": false,
     "start_time": "2021-08-03T06:52:08.996209",
     "status": "completed"
    },
    "tags": []
   },
   "source": [
    "#### Citric acid"
   ]
  },
  {
   "cell_type": "code",
   "execution_count": 13,
   "id": "f070c6c5",
   "metadata": {
    "execution": {
     "iopub.execute_input": "2021-08-03T06:52:09.364609Z",
     "iopub.status.busy": "2021-08-03T06:52:09.363900Z",
     "iopub.status.idle": "2021-08-03T06:52:09.712587Z",
     "shell.execute_reply": "2021-08-03T06:52:09.713123Z",
     "shell.execute_reply.started": "2021-08-03T06:23:00.469623Z"
    },
    "papermill": {
     "duration": 0.472501,
     "end_time": "2021-08-03T06:52:09.713295",
     "exception": false,
     "start_time": "2021-08-03T06:52:09.240794",
     "status": "completed"
    },
    "tags": []
   },
   "outputs": [
    {
     "data": {
      "image/png": "[encoded data removed]",
      "text/plain": [
       "<Figure size 432x288 with 1 Axes>"
      ]
     },
     "metadata": {},
     "output_type": "display_data"
    }
   ],
   "source": [
    "sns.distplot(df[\"citric acid\"] , color = \"r\", bins = 60 , hist_kws = {\"alpha\": 0.4});"
   ]
  },
  {
   "cell_type": "code",
   "execution_count": 14,
   "id": "8607b2cc",
   "metadata": {
    "execution": {
     "iopub.execute_input": "2021-08-03T06:52:09.964466Z",
     "iopub.status.busy": "2021-08-03T06:52:09.963812Z",
     "iopub.status.idle": "2021-08-03T06:52:09.971625Z",
     "shell.execute_reply": "2021-08-03T06:52:09.971097Z",
     "shell.execute_reply.started": "2021-08-03T06:23:00.830525Z"
    },
    "papermill": {
     "duration": 0.133561,
     "end_time": "2021-08-03T06:52:09.971768",
     "exception": false,
     "start_time": "2021-08-03T06:52:09.838207",
     "status": "completed"
    },
    "tags": []
   },
   "outputs": [
    {
     "name": "stdout",
     "output_type": "stream",
     "text": [
      "Skewness: 0.318337\n",
      "Kurtosis: -0.788998\n",
      "Shapiro Test Statistic = 0.9553, p-value = 0.0000\n"
     ]
    }
   ],
   "source": [
    "print(\"Skewness: %f\" % df[\"citric acid\"].skew())\n",
    "print(\"Kurtosis: %f\" % df[\"citric acid\"].kurt())\n",
    "test_statistic, pvalue = shapiro(df[\"citric acid\"])\n",
    "print('Shapiro Test Statistic = %.4f, p-value = %.4f' % (test_statistic, pvalue))"
   ]
  },
  {
   "cell_type": "markdown",
   "id": "aa232358",
   "metadata": {
    "papermill": {
     "duration": 0.122446,
     "end_time": "2021-08-03T06:52:10.217220",
     "exception": false,
     "start_time": "2021-08-03T06:52:10.094774",
     "status": "completed"
    },
    "tags": []
   },
   "source": [
    "#### Residual sugar"
   ]
  },
  {
   "cell_type": "code",
   "execution_count": 15,
   "id": "82de42c3",
   "metadata": {
    "execution": {
     "iopub.execute_input": "2021-08-03T06:52:10.459818Z",
     "iopub.status.busy": "2021-08-03T06:52:10.459207Z",
     "iopub.status.idle": "2021-08-03T06:52:10.975938Z",
     "shell.execute_reply": "2021-08-03T06:52:10.976669Z",
     "shell.execute_reply.started": "2021-08-03T06:23:00.840738Z"
    },
    "papermill": {
     "duration": 0.639282,
     "end_time": "2021-08-03T06:52:10.976853",
     "exception": false,
     "start_time": "2021-08-03T06:52:10.337571",
     "status": "completed"
    },
    "tags": []
   },
   "outputs": [
    {
     "data": {
      "image/png": "[encoded data removed]",
      "text/plain": [
       "<Figure size 432x288 with 1 Axes>"
      ]
     },
     "metadata": {},
     "output_type": "display_data"
    }
   ],
   "source": [
    "sns.distplot(df[\"residual sugar\"] , color = \"r\", bins = 60 , hist_kws = {\"alpha\": 0.4});"
   ]
  },
  {
   "cell_type": "code",
   "execution_count": 16,
   "id": "5d6e3df0",
   "metadata": {
    "execution": {
     "iopub.execute_input": "2021-08-03T06:52:11.226866Z",
     "iopub.status.busy": "2021-08-03T06:52:11.226267Z",
     "iopub.status.idle": "2021-08-03T06:52:11.233048Z",
     "shell.execute_reply": "2021-08-03T06:52:11.233570Z",
     "shell.execute_reply.started": "2021-08-03T06:23:01.215566Z"
    },
    "papermill": {
     "duration": 0.133696,
     "end_time": "2021-08-03T06:52:11.233730",
     "exception": false,
     "start_time": "2021-08-03T06:52:11.100034",
     "status": "completed"
    },
    "tags": []
   },
   "outputs": [
    {
     "name": "stdout",
     "output_type": "stream",
     "text": [
      "Skewness: 4.540655\n",
      "Kurtosis: 28.617595\n",
      "Shapiro Test Statistic = 0.5661, p-value = 0.0000\n"
     ]
    }
   ],
   "source": [
    "print(\"Skewness: %f\" % df[\"residual sugar\"].skew())\n",
    "print(\"Kurtosis: %f\" % df[\"residual sugar\"].kurt())\n",
    "test_statistic, pvalue = shapiro(df[\"residual sugar\"])\n",
    "print('Shapiro Test Statistic = %.4f, p-value = %.4f' % (test_statistic, pvalue))"
   ]
  },
  {
   "cell_type": "markdown",
   "id": "5c303cbe",
   "metadata": {
    "papermill": {
     "duration": 0.1224,
     "end_time": "2021-08-03T06:52:11.480970",
     "exception": false,
     "start_time": "2021-08-03T06:52:11.358570",
     "status": "completed"
    },
    "tags": []
   },
   "source": [
    "#### Chlorides"
   ]
  },
  {
   "cell_type": "code",
   "execution_count": 17,
   "id": "57a0ac7d",
   "metadata": {
    "execution": {
     "iopub.execute_input": "2021-08-03T06:52:11.756260Z",
     "iopub.status.busy": "2021-08-03T06:52:11.754910Z",
     "iopub.status.idle": "2021-08-03T06:52:12.092938Z",
     "shell.execute_reply": "2021-08-03T06:52:12.093410Z",
     "shell.execute_reply.started": "2021-08-03T06:23:01.22477Z"
    },
    "papermill": {
     "duration": 0.488771,
     "end_time": "2021-08-03T06:52:12.093581",
     "exception": false,
     "start_time": "2021-08-03T06:52:11.604810",
     "status": "completed"
    },
    "tags": []
   },
   "outputs": [
    {
     "data": {
      "image/png": "[encoded data removed]",
      "text/plain": [
       "<Figure size 432x288 with 1 Axes>"
      ]
     },
     "metadata": {},
     "output_type": "display_data"
    }
   ],
   "source": [
    "sns.distplot(df[\"chlorides\"] , color = \"r\", bins = 60 , hist_kws = {\"alpha\": 0.4});"
   ]
  },
  {
   "cell_type": "code",
   "execution_count": 18,
   "id": "dc5d6685",
   "metadata": {
    "execution": {
     "iopub.execute_input": "2021-08-03T06:52:12.348549Z",
     "iopub.status.busy": "2021-08-03T06:52:12.347794Z",
     "iopub.status.idle": "2021-08-03T06:52:12.351925Z",
     "shell.execute_reply": "2021-08-03T06:52:12.352642Z",
     "shell.execute_reply.started": "2021-08-03T06:23:01.601972Z"
    },
    "papermill": {
     "duration": 0.134854,
     "end_time": "2021-08-03T06:52:12.352867",
     "exception": false,
     "start_time": "2021-08-03T06:52:12.218013",
     "status": "completed"
    },
    "tags": []
   },
   "outputs": [
    {
     "name": "stdout",
     "output_type": "stream",
     "text": [
      "Skewness: 5.680347\n",
      "Kurtosis: 41.715787\n",
      "Shapiro Test Statistic = 0.4842, p-value = 0.0000\n"
     ]
    }
   ],
   "source": [
    "print(\"Skewness: %f\" % df[\"chlorides\"].skew())\n",
    "print(\"Kurtosis: %f\" % df[\"chlorides\"].kurt())\n",
    "test_statistic, pvalue = shapiro(df[\"chlorides\"])\n",
    "print('Shapiro Test Statistic = %.4f, p-value = %.4f' % (test_statistic, pvalue))"
   ]
  },
  {
   "cell_type": "markdown",
   "id": "0a23cfcd",
   "metadata": {
    "papermill": {
     "duration": 0.123505,
     "end_time": "2021-08-03T06:52:12.600819",
     "exception": false,
     "start_time": "2021-08-03T06:52:12.477314",
     "status": "completed"
    },
    "tags": []
   },
   "source": [
    "#### Free sulfur dioxide"
   ]
  },
  {
   "cell_type": "code",
   "execution_count": 19,
   "id": "1c69a79c",
   "metadata": {
    "execution": {
     "iopub.execute_input": "2021-08-03T06:52:12.852498Z",
     "iopub.status.busy": "2021-08-03T06:52:12.851851Z",
     "iopub.status.idle": "2021-08-03T06:52:13.189057Z",
     "shell.execute_reply": "2021-08-03T06:52:13.189555Z",
     "shell.execute_reply.started": "2021-08-03T06:23:01.611894Z"
    },
    "papermill": {
     "duration": 0.466178,
     "end_time": "2021-08-03T06:52:13.189744",
     "exception": false,
     "start_time": "2021-08-03T06:52:12.723566",
     "status": "completed"
    },
    "tags": []
   },
   "outputs": [
    {
     "data": {
      "image/png": "[encoded data removed]",
      "text/plain": [
       "<Figure size 432x288 with 1 Axes>"
      ]
     },
     "metadata": {},
     "output_type": "display_data"
    }
   ],
   "source": [
    "sns.distplot(df[\"free sulfur dioxide\"] , color = \"r\", bins = 60 , hist_kws = {\"alpha\": 0.4});"
   ]
  },
  {
   "cell_type": "code",
   "execution_count": 20,
   "id": "f42e122d",
   "metadata": {
    "execution": {
     "iopub.execute_input": "2021-08-03T06:52:13.442610Z",
     "iopub.status.busy": "2021-08-03T06:52:13.441936Z",
     "iopub.status.idle": "2021-08-03T06:52:13.448517Z",
     "shell.execute_reply": "2021-08-03T06:52:13.449007Z",
     "shell.execute_reply.started": "2021-08-03T06:23:01.97463Z"
    },
    "papermill": {
     "duration": 0.134623,
     "end_time": "2021-08-03T06:52:13.449159",
     "exception": false,
     "start_time": "2021-08-03T06:52:13.314536",
     "status": "completed"
    },
    "tags": []
   },
   "outputs": [
    {
     "name": "stdout",
     "output_type": "stream",
     "text": [
      "Skewness: 1.250567\n",
      "Kurtosis: 2.023562\n",
      "Shapiro Test Statistic = 0.9018, p-value = 0.0000\n"
     ]
    }
   ],
   "source": [
    "print(\"Skewness: %f\" % df[\"free sulfur dioxide\"].skew())\n",
    "print(\"Kurtosis: %f\" % df[\"free sulfur dioxide\"].kurt())\n",
    "test_statistic, pvalue = shapiro(df[\"free sulfur dioxide\"])\n",
    "print(\"Shapiro Test Statistic = %.4f, p-value = %.4f\" % (test_statistic, pvalue))"
   ]
  },
  {
   "cell_type": "markdown",
   "id": "bdd4a04c",
   "metadata": {
    "papermill": {
     "duration": 0.125762,
     "end_time": "2021-08-03T06:52:13.700748",
     "exception": false,
     "start_time": "2021-08-03T06:52:13.574986",
     "status": "completed"
    },
    "tags": []
   },
   "source": [
    "#### Total sulfur dioxide"
   ]
  },
  {
   "cell_type": "code",
   "execution_count": 21,
   "id": "b80b49e3",
   "metadata": {
    "execution": {
     "iopub.execute_input": "2021-08-03T06:52:13.979757Z",
     "iopub.status.busy": "2021-08-03T06:52:13.970648Z",
     "iopub.status.idle": "2021-08-03T06:52:14.304622Z",
     "shell.execute_reply": "2021-08-03T06:52:14.304041Z",
     "shell.execute_reply.started": "2021-08-03T06:23:01.983056Z"
    },
    "papermill": {
     "duration": 0.477928,
     "end_time": "2021-08-03T06:52:14.304771",
     "exception": false,
     "start_time": "2021-08-03T06:52:13.826843",
     "status": "completed"
    },
    "tags": []
   },
   "outputs": [
    {
     "data": {
      "image/png": "[encoded data removed]",
      "text/plain": [
       "<Figure size 432x288 with 1 Axes>"
      ]
     },
     "metadata": {},
     "output_type": "display_data"
    }
   ],
   "source": [
    "sns.distplot(df[\"total sulfur dioxide\"] , color = \"r\" , bins = 60 , hist_kws = {\"alpha\" : 0.4});"
   ]
  },
  {
   "cell_type": "code",
   "execution_count": 22,
   "id": "62cec1ff",
   "metadata": {
    "execution": {
     "iopub.execute_input": "2021-08-03T06:52:14.561338Z",
     "iopub.status.busy": "2021-08-03T06:52:14.560711Z",
     "iopub.status.idle": "2021-08-03T06:52:14.566108Z",
     "shell.execute_reply": "2021-08-03T06:52:14.566736Z",
     "shell.execute_reply.started": "2021-08-03T06:23:02.344597Z"
    },
    "papermill": {
     "duration": 0.137422,
     "end_time": "2021-08-03T06:52:14.566957",
     "exception": false,
     "start_time": "2021-08-03T06:52:14.429535",
     "status": "completed"
    },
    "tags": []
   },
   "outputs": [
    {
     "name": "stdout",
     "output_type": "stream",
     "text": [
      "Skewness: 1.515531\n",
      "Kurtosis: 3.809824\n",
      "Shapiro Test Statistic = 0.8732, p-value = 0.0000\n"
     ]
    }
   ],
   "source": [
    "print(\"Skewness: %f\" % df[\"total sulfur dioxide\"].skew())\n",
    "print(\"Kurtosis: %f\" % df[\"total sulfur dioxide\"].kurt())\n",
    "test_statistic , pvalue = shapiro(df[\"total sulfur dioxide\"])\n",
    "print(\"Shapiro Test Statistic = %.4f, p-value = %.4f\" % (test_statistic , pvalue))"
   ]
  },
  {
   "cell_type": "markdown",
   "id": "af49bfec",
   "metadata": {
    "papermill": {
     "duration": 0.127314,
     "end_time": "2021-08-03T06:52:14.822321",
     "exception": false,
     "start_time": "2021-08-03T06:52:14.695007",
     "status": "completed"
    },
    "tags": []
   },
   "source": [
    "#### Density"
   ]
  },
  {
   "cell_type": "code",
   "execution_count": 23,
   "id": "5feb2ca4",
   "metadata": {
    "execution": {
     "iopub.execute_input": "2021-08-03T06:52:15.112981Z",
     "iopub.status.busy": "2021-08-03T06:52:15.101826Z",
     "iopub.status.idle": "2021-08-03T06:52:15.457005Z",
     "shell.execute_reply": "2021-08-03T06:52:15.456555Z",
     "shell.execute_reply.started": "2021-08-03T06:23:02.35352Z"
    },
    "papermill": {
     "duration": 0.508102,
     "end_time": "2021-08-03T06:52:15.457145",
     "exception": false,
     "start_time": "2021-08-03T06:52:14.949043",
     "status": "completed"
    },
    "tags": []
   },
   "outputs": [
    {
     "data": {
      "image/png": "[encoded data removed]",
      "text/plain": [
       "<Figure size 432x288 with 1 Axes>"
      ]
     },
     "metadata": {},
     "output_type": "display_data"
    }
   ],
   "source": [
    "sns.distplot(df[\"density\"] , color = \"r\" , bins = 60 , hist_kws = {\"alpha\" : 0.4});"
   ]
  },
  {
   "cell_type": "code",
   "execution_count": 24,
   "id": "2d581732",
   "metadata": {
    "execution": {
     "iopub.execute_input": "2021-08-03T06:52:15.720761Z",
     "iopub.status.busy": "2021-08-03T06:52:15.719876Z",
     "iopub.status.idle": "2021-08-03T06:52:15.724285Z",
     "shell.execute_reply": "2021-08-03T06:52:15.723778Z",
     "shell.execute_reply.started": "2021-08-03T06:23:02.747745Z"
    },
    "papermill": {
     "duration": 0.138826,
     "end_time": "2021-08-03T06:52:15.724434",
     "exception": false,
     "start_time": "2021-08-03T06:52:15.585608",
     "status": "completed"
    },
    "tags": []
   },
   "outputs": [
    {
     "name": "stdout",
     "output_type": "stream",
     "text": [
      "Skewness: 0.071288\n",
      "Kurtosis: 0.934079\n",
      "Shapiro Test Statistic = 0.9909, pvalue = 0.0000\n"
     ]
    }
   ],
   "source": [
    "print(\"Skewness: %f\" % df[\"density\"].skew())\n",
    "print(\"Kurtosis: %f\" % df[\"density\"].kurt())\n",
    "test_statistic, pvalue = shapiro(df[\"density\"])\n",
    "print(\"Shapiro Test Statistic = %.4f, pvalue = %.4f\" % (test_statistic , pvalue))"
   ]
  },
  {
   "cell_type": "markdown",
   "id": "e154fd82",
   "metadata": {
    "papermill": {
     "duration": 0.131832,
     "end_time": "2021-08-03T06:52:15.986094",
     "exception": false,
     "start_time": "2021-08-03T06:52:15.854262",
     "status": "completed"
    },
    "tags": []
   },
   "source": [
    "#### pH"
   ]
  },
  {
   "cell_type": "code",
   "execution_count": 25,
   "id": "e8be01c4",
   "metadata": {
    "execution": {
     "iopub.execute_input": "2021-08-03T06:52:16.275535Z",
     "iopub.status.busy": "2021-08-03T06:52:16.274534Z",
     "iopub.status.idle": "2021-08-03T06:52:16.633907Z",
     "shell.execute_reply": "2021-08-03T06:52:16.633340Z",
     "shell.execute_reply.started": "2021-08-03T06:23:02.756057Z"
    },
    "papermill": {
     "duration": 0.516537,
     "end_time": "2021-08-03T06:52:16.634093",
     "exception": false,
     "start_time": "2021-08-03T06:52:16.117556",
     "status": "completed"
    },
    "tags": []
   },
   "outputs": [
    {
     "data": {
      "image/png": "[encoded data removed]",
      "text/plain": [
       "<Figure size 432x288 with 1 Axes>"
      ]
     },
     "metadata": {},
     "output_type": "display_data"
    }
   ],
   "source": [
    "sns.distplot(df[\"pH\"], color = \"r\" , bins = 60 , hist_kws = {\"alpha\" : 0.4});"
   ]
  },
  {
   "cell_type": "code",
   "execution_count": 26,
   "id": "817d5900",
   "metadata": {
    "execution": {
     "iopub.execute_input": "2021-08-03T06:52:16.905148Z",
     "iopub.status.busy": "2021-08-03T06:52:16.904116Z",
     "iopub.status.idle": "2021-08-03T06:52:16.907913Z",
     "shell.execute_reply": "2021-08-03T06:52:16.908448Z",
     "shell.execute_reply.started": "2021-08-03T06:23:03.143485Z"
    },
    "papermill": {
     "duration": 0.141315,
     "end_time": "2021-08-03T06:52:16.908611",
     "exception": false,
     "start_time": "2021-08-03T06:52:16.767296",
     "status": "completed"
    },
    "tags": []
   },
   "outputs": [
    {
     "name": "stdout",
     "output_type": "stream",
     "text": [
      "Skewness : 0.193683\n",
      "Kurtosis : 0.806943\n",
      "Shapiro Test Statistic : 0.9935, pvalue = 0.0000\n"
     ]
    }
   ],
   "source": [
    "print(\"Skewness : %f\" % df[\"pH\"].skew())\n",
    "print(\"Kurtosis : %f\" % df[\"pH\"].kurt())\n",
    "test_statistic , pvalue = shapiro(df[\"pH\"])\n",
    "print(\"Shapiro Test Statistic : %.4f, pvalue = %.4f\" % (test_statistic , pvalue))"
   ]
  },
  {
   "cell_type": "markdown",
   "id": "0bce453f",
   "metadata": {
    "papermill": {
     "duration": 0.132587,
     "end_time": "2021-08-03T06:52:17.173907",
     "exception": false,
     "start_time": "2021-08-03T06:52:17.041320",
     "status": "completed"
    },
    "tags": []
   },
   "source": [
    "#### Sulphates"
   ]
  },
  {
   "cell_type": "code",
   "execution_count": 27,
   "id": "8c806485",
   "metadata": {
    "execution": {
     "iopub.execute_input": "2021-08-03T06:52:17.472837Z",
     "iopub.status.busy": "2021-08-03T06:52:17.467685Z",
     "iopub.status.idle": "2021-08-03T06:52:17.813748Z",
     "shell.execute_reply": "2021-08-03T06:52:17.814246Z",
     "shell.execute_reply.started": "2021-08-03T06:23:03.152535Z"
    },
    "papermill": {
     "duration": 0.506717,
     "end_time": "2021-08-03T06:52:17.814435",
     "exception": false,
     "start_time": "2021-08-03T06:52:17.307718",
     "status": "completed"
    },
    "tags": []
   },
   "outputs": [
    {
     "data": {
      "image/png": "[encoded data removed]",
      "text/plain": [
       "<Figure size 432x288 with 1 Axes>"
      ]
     },
     "metadata": {},
     "output_type": "display_data"
    }
   ],
   "source": [
    "sns.distplot(df[\"sulphates\"] , color = \"r\" , bins = 60 , hist_kws = {\"alpha\" : 0.4});"
   ]
  },
  {
   "cell_type": "code",
   "execution_count": 28,
   "id": "33c34ea4",
   "metadata": {
    "execution": {
     "iopub.execute_input": "2021-08-03T06:52:18.092491Z",
     "iopub.status.busy": "2021-08-03T06:52:18.091382Z",
     "iopub.status.idle": "2021-08-03T06:52:18.096368Z",
     "shell.execute_reply": "2021-08-03T06:52:18.097011Z",
     "shell.execute_reply.started": "2021-08-03T06:23:03.539376Z"
    },
    "papermill": {
     "duration": 0.145274,
     "end_time": "2021-08-03T06:52:18.097244",
     "exception": false,
     "start_time": "2021-08-03T06:52:17.951970",
     "status": "completed"
    },
    "tags": []
   },
   "outputs": [
    {
     "name": "stdout",
     "output_type": "stream",
     "text": [
      "Skewness : 2.428672\n",
      "Kurtosis : 11.720251\n",
      "Shapiro Test Statistic : 0.8330 , pvalue : 0.0000\n"
     ]
    }
   ],
   "source": [
    "print(\"Skewness : %f\" % df[\"sulphates\"].skew())\n",
    "print(\"Kurtosis : %f\" % df[\"sulphates\"].kurt())\n",
    "test_statistic , pvalue = shapiro(df[\"sulphates\"])\n",
    "print(\"Shapiro Test Statistic : %.4f , pvalue : %.4f\" % (test_statistic , pvalue))"
   ]
  },
  {
   "cell_type": "markdown",
   "id": "5a0d0f48",
   "metadata": {
    "papermill": {
     "duration": 0.137044,
     "end_time": "2021-08-03T06:52:18.367998",
     "exception": false,
     "start_time": "2021-08-03T06:52:18.230954",
     "status": "completed"
    },
    "tags": []
   },
   "source": [
    "#### Alcohol"
   ]
  },
  {
   "cell_type": "code",
   "execution_count": 29,
   "id": "dffeae98",
   "metadata": {
    "execution": {
     "iopub.execute_input": "2021-08-03T06:52:18.661570Z",
     "iopub.status.busy": "2021-08-03T06:52:18.660468Z",
     "iopub.status.idle": "2021-08-03T06:52:19.010502Z",
     "shell.execute_reply": "2021-08-03T06:52:19.010012Z",
     "shell.execute_reply.started": "2021-08-03T06:23:03.549496Z"
    },
    "papermill": {
     "duration": 0.509294,
     "end_time": "2021-08-03T06:52:19.010639",
     "exception": false,
     "start_time": "2021-08-03T06:52:18.501345",
     "status": "completed"
    },
    "tags": []
   },
   "outputs": [
    {
     "data": {
      "image/png": "[encoded data removed]",
      "text/plain": [
       "<Figure size 432x288 with 1 Axes>"
      ]
     },
     "metadata": {},
     "output_type": "display_data"
    }
   ],
   "source": [
    "sns.distplot(df[\"alcohol\"] , color = \"r\" , bins = 60 , hist_kws = {\"alpha\" : 0.4});"
   ]
  },
  {
   "cell_type": "code",
   "execution_count": 30,
   "id": "99af1e0c",
   "metadata": {
    "execution": {
     "iopub.execute_input": "2021-08-03T06:52:19.283347Z",
     "iopub.status.busy": "2021-08-03T06:52:19.282429Z",
     "iopub.status.idle": "2021-08-03T06:52:19.288494Z",
     "shell.execute_reply": "2021-08-03T06:52:19.288985Z",
     "shell.execute_reply.started": "2021-08-03T06:23:03.930499Z"
    },
    "papermill": {
     "duration": 0.14601,
     "end_time": "2021-08-03T06:52:19.289148",
     "exception": false,
     "start_time": "2021-08-03T06:52:19.143138",
     "status": "completed"
    },
    "tags": []
   },
   "outputs": [
    {
     "name": "stdout",
     "output_type": "stream",
     "text": [
      "Skewness : 0.860829\n",
      "Kurtosis : 0.200029\n",
      "Shapiro Test Statistic : 0.9288 , pvalue : 0.0000\n"
     ]
    }
   ],
   "source": [
    "print(\"Skewness : %f\" % df[\"alcohol\"].skew())\n",
    "print(\"Kurtosis : %f\" % df[\"alcohol\"].kurt())\n",
    "test_statistic , pvalue = shapiro(df[\"alcohol\"])\n",
    "print(\"Shapiro Test Statistic : %.4f , pvalue : %.4f\" % (test_statistic , pvalue))"
   ]
  },
  {
   "cell_type": "markdown",
   "id": "8be19a6c",
   "metadata": {
    "papermill": {
     "duration": 0.133132,
     "end_time": "2021-08-03T06:52:19.556281",
     "exception": false,
     "start_time": "2021-08-03T06:52:19.423149",
     "status": "completed"
    },
    "tags": []
   },
   "source": [
    "Let's look at the distribution of variables with the target variable using the boxplot graph."
   ]
  },
  {
   "cell_type": "code",
   "execution_count": 31,
   "id": "6be4f03b",
   "metadata": {
    "execution": {
     "iopub.execute_input": "2021-08-03T06:52:19.868198Z",
     "iopub.status.busy": "2021-08-03T06:52:19.864980Z",
     "iopub.status.idle": "2021-08-03T06:52:21.098821Z",
     "shell.execute_reply": "2021-08-03T06:52:21.098283Z",
     "shell.execute_reply.started": "2021-08-03T06:23:03.941705Z"
    },
    "papermill": {
     "duration": 1.410266,
     "end_time": "2021-08-03T06:52:21.098945",
     "exception": false,
     "start_time": "2021-08-03T06:52:19.688679",
     "status": "completed"
    },
    "tags": []
   },
   "outputs": [
    {
     "data": {
      "image/png": "[encoded data removed]",
      "text/plain": [
       "<Figure size 1728x432 with 5 Axes>"
      ]
     },
     "metadata": {},
     "output_type": "display_data"
    }
   ],
   "source": [
    "figure, ax = plt.subplots(1,5, figsize = (24,6))\n",
    "sns.boxplot(data = df, x = \"quality\", y=\"fixed acidity\", ax = ax[0])\n",
    "sns.boxplot(data = df, x = \"quality\", y=\"volatile acidity\", ax = ax[1])\n",
    "sns.boxplot(data = df, x = \"quality\", y=\"citric acid\", ax = ax[2])\n",
    "sns.boxplot(data = df, x = \"quality\", y=\"residual sugar\", ax = ax[3])\n",
    "sns.boxplot(data = df, x = \"quality\", y=\"chlorides\", ax = ax[4])\n",
    "plt.show()"
   ]
  },
  {
   "cell_type": "code",
   "execution_count": 32,
   "id": "79370b05",
   "metadata": {
    "execution": {
     "iopub.execute_input": "2021-08-03T06:52:21.399413Z",
     "iopub.status.busy": "2021-08-03T06:52:21.392290Z",
     "iopub.status.idle": "2021-08-03T06:52:22.812052Z",
     "shell.execute_reply": "2021-08-03T06:52:22.812508Z",
     "shell.execute_reply.started": "2021-08-03T06:23:05.234586Z"
    },
    "papermill": {
     "duration": 1.579396,
     "end_time": "2021-08-03T06:52:22.812712",
     "exception": false,
     "start_time": "2021-08-03T06:52:21.233316",
     "status": "completed"
    },
    "tags": []
   },
   "outputs": [
    {
     "data": {
      "image/png": "[encoded data removed]",
      "text/plain": [
       "<Figure size 1728x432 with 6 Axes>"
      ]
     },
     "metadata": {},
     "output_type": "display_data"
    }
   ],
   "source": [
    "figure, ax = plt.subplots(1,6, figsize = (24,6))\n",
    "sns.boxplot(data = df, x = \"quality\", y=\"free sulfur dioxide\", ax = ax[0])\n",
    "sns.boxplot(data = df, x = \"quality\", y=\"total sulfur dioxide\", ax = ax[1])\n",
    "sns.boxplot(data = df, x = \"quality\", y=\"density\", ax = ax[2])\n",
    "sns.boxplot(data = df, x = \"quality\", y=\"pH\", ax = ax[3])\n",
    "sns.boxplot(data = df, x = \"quality\", y=\"sulphates\", ax = ax[4])\n",
    "sns.boxplot(data = df, x = \"quality\", y=\"alcohol\", ax = ax[5])\n",
    "plt.show()"
   ]
  },
  {
   "cell_type": "markdown",
   "id": "0b330c6c",
   "metadata": {
    "papermill": {
     "duration": 0.140403,
     "end_time": "2021-08-03T06:52:23.092394",
     "exception": false,
     "start_time": "2021-08-03T06:52:22.951991",
     "status": "completed"
    },
    "tags": []
   },
   "source": [
    "Now, we need a function that will help us with the modeling.\n",
    "\n",
    "The quality variable is 6 categories, we'll transform it to 2. ( 0 and 1 )"
   ]
  },
  {
   "cell_type": "code",
   "execution_count": 33,
   "id": "e0a3eb08",
   "metadata": {
    "execution": {
     "iopub.execute_input": "2021-08-03T06:52:23.374173Z",
     "iopub.status.busy": "2021-08-03T06:52:23.373276Z",
     "iopub.status.idle": "2021-08-03T06:52:23.379502Z",
     "shell.execute_reply": "2021-08-03T06:52:23.380210Z",
     "shell.execute_reply.started": "2021-08-03T06:23:06.677321Z"
    },
    "papermill": {
     "duration": 0.149093,
     "end_time": "2021-08-03T06:52:23.380404",
     "exception": false,
     "start_time": "2021-08-03T06:52:23.231311",
     "status": "completed"
    },
    "tags": []
   },
   "outputs": [
    {
     "data": {
      "text/plain": [
       "5    681\n",
       "6    638\n",
       "7    199\n",
       "4     53\n",
       "8     18\n",
       "3     10\n",
       "Name: quality, dtype: int64"
      ]
     },
     "execution_count": 33,
     "metadata": {},
     "output_type": "execute_result"
    }
   ],
   "source": [
    "df[\"quality\"].value_counts()"
   ]
  },
  {
   "cell_type": "code",
   "execution_count": 34,
   "id": "14a8032b",
   "metadata": {
    "execution": {
     "iopub.execute_input": "2021-08-03T06:52:23.661392Z",
     "iopub.status.busy": "2021-08-03T06:52:23.660742Z",
     "iopub.status.idle": "2021-08-03T06:52:23.667170Z",
     "shell.execute_reply": "2021-08-03T06:52:23.666578Z",
     "shell.execute_reply.started": "2021-08-03T06:23:06.686014Z"
    },
    "papermill": {
     "duration": 0.147633,
     "end_time": "2021-08-03T06:52:23.667300",
     "exception": false,
     "start_time": "2021-08-03T06:52:23.519667",
     "status": "completed"
    },
    "tags": []
   },
   "outputs": [],
   "source": [
    "## transform func.\n",
    "\n",
    "df[\"quality\"] = df[\"quality\"].apply(lambda value : 1 if value >= 7 else 0)"
   ]
  },
  {
   "cell_type": "code",
   "execution_count": 35,
   "id": "8cb5b858",
   "metadata": {
    "execution": {
     "iopub.execute_input": "2021-08-03T06:52:23.952136Z",
     "iopub.status.busy": "2021-08-03T06:52:23.951332Z",
     "iopub.status.idle": "2021-08-03T06:52:23.954680Z",
     "shell.execute_reply": "2021-08-03T06:52:23.955217Z",
     "shell.execute_reply.started": "2021-08-03T06:23:06.698619Z"
    },
    "papermill": {
     "duration": 0.148886,
     "end_time": "2021-08-03T06:52:23.955397",
     "exception": false,
     "start_time": "2021-08-03T06:52:23.806511",
     "status": "completed"
    },
    "tags": []
   },
   "outputs": [
    {
     "data": {
      "text/plain": [
       "0    1382\n",
       "1     217\n",
       "Name: quality, dtype: int64"
      ]
     },
     "execution_count": 35,
     "metadata": {},
     "output_type": "execute_result"
    }
   ],
   "source": [
    "df[\"quality\"].value_counts()"
   ]
  },
  {
   "cell_type": "code",
   "execution_count": 36,
   "id": "0a9cdffe",
   "metadata": {
    "execution": {
     "iopub.execute_input": "2021-08-03T06:52:24.235105Z",
     "iopub.status.busy": "2021-08-03T06:52:24.234484Z",
     "iopub.status.idle": "2021-08-03T06:52:24.238785Z",
     "shell.execute_reply": "2021-08-03T06:52:24.239311Z",
     "shell.execute_reply.started": "2021-08-03T06:23:06.714244Z"
    },
    "papermill": {
     "duration": 0.146236,
     "end_time": "2021-08-03T06:52:24.239479",
     "exception": false,
     "start_time": "2021-08-03T06:52:24.093243",
     "status": "completed"
    },
    "tags": []
   },
   "outputs": [],
   "source": [
    "x = df[df.columns[:-1]]\n",
    "y = df[\"quality\"]"
   ]
  },
  {
   "cell_type": "markdown",
   "id": "85a9f664",
   "metadata": {
    "papermill": {
     "duration": 0.137219,
     "end_time": "2021-08-03T06:52:24.516169",
     "exception": false,
     "start_time": "2021-08-03T06:52:24.378950",
     "status": "completed"
    },
    "tags": []
   },
   "source": [
    "We need to standardize our independent variables. "
   ]
  },
  {
   "cell_type": "code",
   "execution_count": 37,
   "id": "94cb147a",
   "metadata": {
    "execution": {
     "iopub.execute_input": "2021-08-03T06:52:24.799394Z",
     "iopub.status.busy": "2021-08-03T06:52:24.798735Z",
     "iopub.status.idle": "2021-08-03T06:52:24.806442Z",
     "shell.execute_reply": "2021-08-03T06:52:24.806914Z",
     "shell.execute_reply.started": "2021-08-03T06:23:06.7251Z"
    },
    "papermill": {
     "duration": 0.153875,
     "end_time": "2021-08-03T06:52:24.807085",
     "exception": false,
     "start_time": "2021-08-03T06:52:24.653210",
     "status": "completed"
    },
    "tags": []
   },
   "outputs": [],
   "source": [
    "scaler = StandardScaler()\n",
    "x = scaler.fit_transform(x)"
   ]
  },
  {
   "cell_type": "code",
   "execution_count": 38,
   "id": "5701e1fe",
   "metadata": {
    "execution": {
     "iopub.execute_input": "2021-08-03T06:52:25.084159Z",
     "iopub.status.busy": "2021-08-03T06:52:25.083558Z",
     "iopub.status.idle": "2021-08-03T06:52:25.088718Z",
     "shell.execute_reply": "2021-08-03T06:52:25.089235Z",
     "shell.execute_reply.started": "2021-08-03T06:23:06.741727Z"
    },
    "papermill": {
     "duration": 0.143843,
     "end_time": "2021-08-03T06:52:25.089415",
     "exception": false,
     "start_time": "2021-08-03T06:52:24.945572",
     "status": "completed"
    },
    "tags": []
   },
   "outputs": [],
   "source": [
    "x_train , x_test , y_train , y_test = train_test_split(x , y , test_size = 0.20 , random_state = 42)"
   ]
  },
  {
   "cell_type": "code",
   "execution_count": 39,
   "id": "94cc57ad",
   "metadata": {
    "execution": {
     "iopub.execute_input": "2021-08-03T06:52:25.372707Z",
     "iopub.status.busy": "2021-08-03T06:52:25.372045Z",
     "iopub.status.idle": "2021-08-03T06:52:25.374782Z",
     "shell.execute_reply": "2021-08-03T06:52:25.375242Z",
     "shell.execute_reply.started": "2021-08-03T06:23:06.749857Z"
    },
    "papermill": {
     "duration": 0.14702,
     "end_time": "2021-08-03T06:52:25.375420",
     "exception": false,
     "start_time": "2021-08-03T06:52:25.228400",
     "status": "completed"
    },
    "tags": []
   },
   "outputs": [
    {
     "data": {
      "text/plain": [
       "((1279, 11), (320, 11), (1279,), (320,))"
      ]
     },
     "execution_count": 39,
     "metadata": {},
     "output_type": "execute_result"
    }
   ],
   "source": [
    "x_train.shape , x_test.shape , y_train.shape , y_test.shape"
   ]
  },
  {
   "cell_type": "markdown",
   "id": "bc8a09f1",
   "metadata": {
    "papermill": {
     "duration": 0.151631,
     "end_time": "2021-08-03T06:52:25.687760",
     "exception": false,
     "start_time": "2021-08-03T06:52:25.536129",
     "status": "completed"
    },
    "tags": []
   },
   "source": [
    "I think we're ready, but we have a problem. Unbalanced data !"
   ]
  },
  {
   "cell_type": "markdown",
   "id": "d1b43600",
   "metadata": {
    "papermill": {
     "duration": 0.142135,
     "end_time": "2021-08-03T06:52:25.989318",
     "exception": false,
     "start_time": "2021-08-03T06:52:25.847183",
     "status": "completed"
    },
    "tags": []
   },
   "source": [
    "#### **Unbalanced Data Problem**\n",
    "Unbalanced data refers to classification problems where we have unequal instances for different classes. Having unbalanced data is actually very common in general, but it is especially prevalent when working with disease data where we usually have more healthy control samples than disease cases. Even more extreme unbalance is seen with fraud detection, where e.g. most credit card uses are okay and only very few will be fraudulent.\n",
    "\n",
    "Most machine learning classification algorithms are sensitive to unbalance in the predictor classes. Let’s consider an even more extreme example than our red wine dataset: assume we had 10 good quality vs 90 bad quality samples. A machine learning model that has been trained and tested on such a dataset could now predict “bad quality” for all samples and still gain a very high accuracy. An unbalanced dataset will bias the prediction model towards the more common class!\n",
    "\n",
    "**Solutions**\n",
    "\n",
    "* **Find extra data**  : The number of observations in a class with few observations can be increased.\n",
    "* **Undersampling**   : Undersampling refers to a group of techniques designed to balance the class distribution for a classification dataset that has a skewed class distribution.\n",
    "* **Oversampling**    : I think undersampling should be preferred if it can't be done.It's very likely to cause overfit.\n",
    "* **Resampling : SMOTE**  : It does not act as a classic data copy. Copying data does not give new information to the model.It uses KNN algorithm. It selects random data from a minority category selects their neighbors, and generates data. This process repeats until the majority reaches the number of observations in the category. \n",
    "\n",
    "**I used SMOTE in this notebook. You can also find different methods for the unbalanced data problem.**"
   ]
  },
  {
   "cell_type": "code",
   "execution_count": 40,
   "id": "37235ce1",
   "metadata": {
    "execution": {
     "iopub.execute_input": "2021-08-03T06:52:26.277814Z",
     "iopub.status.busy": "2021-08-03T06:52:26.277143Z",
     "iopub.status.idle": "2021-08-03T06:52:26.291452Z",
     "shell.execute_reply": "2021-08-03T06:52:26.290810Z",
     "shell.execute_reply.started": "2021-08-03T06:23:06.760852Z"
    },
    "papermill": {
     "duration": 0.161158,
     "end_time": "2021-08-03T06:52:26.291591",
     "exception": false,
     "start_time": "2021-08-03T06:52:26.130433",
     "status": "completed"
    },
    "tags": []
   },
   "outputs": [
    {
     "data": {
      "text/plain": [
       "0    1109\n",
       "1    1109\n",
       "Name: quality, dtype: int64"
      ]
     },
     "execution_count": 40,
     "metadata": {},
     "output_type": "execute_result"
    }
   ],
   "source": [
    "smote = SMOTE(k_neighbors = 4 , random_state = 12)\n",
    "x_train, y_train = smote.fit_resample(x_train, y_train)\n",
    "y_train.value_counts()"
   ]
  },
  {
   "cell_type": "markdown",
   "id": "f4fda634",
   "metadata": {
    "papermill": {
     "duration": 0.140453,
     "end_time": "2021-08-03T06:52:26.573452",
     "exception": false,
     "start_time": "2021-08-03T06:52:26.432999",
     "status": "completed"
    },
    "tags": []
   },
   "source": [
    "#### READY FOR ML !\n",
    "\n",
    "![](http://media4.giphy.com/media/8Iv5lqKwKsZ2g/giphy.gif)"
   ]
  },
  {
   "cell_type": "markdown",
   "id": "8aaeb63c",
   "metadata": {
    "papermill": {
     "duration": 0.140231,
     "end_time": "2021-08-03T06:52:26.853852",
     "exception": false,
     "start_time": "2021-08-03T06:52:26.713621",
     "status": "completed"
    },
    "tags": []
   },
   "source": [
    "#### KNN Classifier (K-Nearest Neighbors Algorithm)"
   ]
  },
  {
   "cell_type": "code",
   "execution_count": 41,
   "id": "049048fc",
   "metadata": {
    "execution": {
     "iopub.execute_input": "2021-08-03T06:52:27.139666Z",
     "iopub.status.busy": "2021-08-03T06:52:27.139004Z",
     "iopub.status.idle": "2021-08-03T06:52:27.144424Z",
     "shell.execute_reply": "2021-08-03T06:52:27.144890Z",
     "shell.execute_reply.started": "2021-08-03T06:23:06.779596Z"
    },
    "papermill": {
     "duration": 0.149731,
     "end_time": "2021-08-03T06:52:27.145071",
     "exception": false,
     "start_time": "2021-08-03T06:52:26.995340",
     "status": "completed"
    },
    "tags": []
   },
   "outputs": [],
   "source": [
    "knn = KNeighborsClassifier()\n",
    "knn_model = knn.fit(x_train , y_train)"
   ]
  },
  {
   "cell_type": "code",
   "execution_count": 42,
   "id": "09271817",
   "metadata": {
    "execution": {
     "iopub.execute_input": "2021-08-03T06:52:27.430582Z",
     "iopub.status.busy": "2021-08-03T06:52:27.429951Z",
     "iopub.status.idle": "2021-08-03T06:52:27.459262Z",
     "shell.execute_reply": "2021-08-03T06:52:27.458715Z",
     "shell.execute_reply.started": "2021-08-03T06:23:06.789327Z"
    },
    "papermill": {
     "duration": 0.174548,
     "end_time": "2021-08-03T06:52:27.459415",
     "exception": false,
     "start_time": "2021-08-03T06:52:27.284867",
     "status": "completed"
    },
    "tags": []
   },
   "outputs": [
    {
     "data": {
      "text/plain": [
       "0.78125"
      ]
     },
     "execution_count": 42,
     "metadata": {},
     "output_type": "execute_result"
    }
   ],
   "source": [
    "y_pred_knn = knn_model.predict(x_test)\n",
    "accuracy_score(y_test , y_pred_knn)"
   ]
  },
  {
   "cell_type": "markdown",
   "id": "efc63da6",
   "metadata": {
    "papermill": {
     "duration": 0.137899,
     "end_time": "2021-08-03T06:52:27.737634",
     "exception": false,
     "start_time": "2021-08-03T06:52:27.599735",
     "status": "completed"
    },
    "tags": []
   },
   "source": [
    "#### OPTIMIZATION"
   ]
  },
  {
   "cell_type": "code",
   "execution_count": 43,
   "id": "9f6a0954",
   "metadata": {
    "execution": {
     "iopub.execute_input": "2021-08-03T06:52:28.022046Z",
     "iopub.status.busy": "2021-08-03T06:52:28.021333Z",
     "iopub.status.idle": "2021-08-03T06:52:41.623924Z",
     "shell.execute_reply": "2021-08-03T06:52:41.624405Z",
     "shell.execute_reply.started": "2021-08-03T06:23:06.827142Z"
    },
    "papermill": {
     "duration": 13.745084,
     "end_time": "2021-08-03T06:52:41.624576",
     "exception": false,
     "start_time": "2021-08-03T06:52:27.879492",
     "status": "completed"
    },
    "tags": []
   },
   "outputs": [
    {
     "data": {
      "text/plain": [
       "GridSearchCV(cv=10, estimator=KNeighborsClassifier(),\n",
       "             param_grid={'n_neighbors': array([ 1,  2,  3,  4,  5,  6,  7,  8,  9, 10, 11, 12, 13, 14, 15, 16, 17,\n",
       "       18, 19, 20, 21, 22, 23, 24, 25, 26, 27, 28, 29, 30, 31, 32, 33, 34,\n",
       "       35, 36, 37, 38, 39, 40, 41, 42, 43, 44, 45, 46, 47, 48, 49, 50, 51,\n",
       "       52, 53, 54, 55, 56, 57, 58, 59])})"
      ]
     },
     "execution_count": 43,
     "metadata": {},
     "output_type": "execute_result"
    }
   ],
   "source": [
    "knn_params = {\"n_neighbors\": np.arange(1,60)}\n",
    "knn_cv = GridSearchCV(knn , knn_params, cv = 10)\n",
    "knn_cv.fit(x_train , y_train)"
   ]
  },
  {
   "cell_type": "code",
   "execution_count": 44,
   "id": "1cf6a663",
   "metadata": {
    "execution": {
     "iopub.execute_input": "2021-08-03T06:52:41.895886Z",
     "iopub.status.busy": "2021-08-03T06:52:41.895285Z",
     "iopub.status.idle": "2021-08-03T06:52:41.899388Z",
     "shell.execute_reply": "2021-08-03T06:52:41.898857Z",
     "shell.execute_reply.started": "2021-08-03T06:23:20.759563Z"
    },
    "papermill": {
     "duration": 0.141348,
     "end_time": "2021-08-03T06:52:41.899523",
     "exception": false,
     "start_time": "2021-08-03T06:52:41.758175",
     "status": "completed"
    },
    "tags": []
   },
   "outputs": [
    {
     "name": "stdout",
     "output_type": "stream",
     "text": [
      "Best Parameters: {'n_neighbors': 2}\n"
     ]
    }
   ],
   "source": [
    "print(\"Best Parameters: \" + str(knn_cv.best_params_))"
   ]
  },
  {
   "cell_type": "markdown",
   "id": "f14cf118",
   "metadata": {
    "papermill": {
     "duration": 0.132056,
     "end_time": "2021-08-03T06:52:42.173929",
     "exception": false,
     "start_time": "2021-08-03T06:52:42.041873",
     "status": "completed"
    },
    "tags": []
   },
   "source": [
    "**Optimized Model**"
   ]
  },
  {
   "cell_type": "code",
   "execution_count": 45,
   "id": "7976f4ce",
   "metadata": {
    "execution": {
     "iopub.execute_input": "2021-08-03T06:52:42.447402Z",
     "iopub.status.busy": "2021-08-03T06:52:42.446588Z",
     "iopub.status.idle": "2021-08-03T06:52:42.452313Z",
     "shell.execute_reply": "2021-08-03T06:52:42.451819Z",
     "shell.execute_reply.started": "2021-08-03T06:23:20.766233Z"
    },
    "papermill": {
     "duration": 0.144533,
     "end_time": "2021-08-03T06:52:42.452455",
     "exception": false,
     "start_time": "2021-08-03T06:52:42.307922",
     "status": "completed"
    },
    "tags": []
   },
   "outputs": [],
   "source": [
    "knn = KNeighborsClassifier(n_neighbors = 2)\n",
    "opt_knn = knn.fit(x_train , y_train)"
   ]
  },
  {
   "cell_type": "code",
   "execution_count": 46,
   "id": "70eba031",
   "metadata": {
    "execution": {
     "iopub.execute_input": "2021-08-03T06:52:42.730787Z",
     "iopub.status.busy": "2021-08-03T06:52:42.730190Z",
     "iopub.status.idle": "2021-08-03T06:52:42.758691Z",
     "shell.execute_reply": "2021-08-03T06:52:42.758031Z",
     "shell.execute_reply.started": "2021-08-03T06:23:20.78291Z"
    },
    "papermill": {
     "duration": 0.168101,
     "end_time": "2021-08-03T06:52:42.758857",
     "exception": false,
     "start_time": "2021-08-03T06:52:42.590756",
     "status": "completed"
    },
    "tags": []
   },
   "outputs": [
    {
     "data": {
      "text/plain": [
       "0.878125"
      ]
     },
     "execution_count": 46,
     "metadata": {},
     "output_type": "execute_result"
    }
   ],
   "source": [
    "y_pred_knn = opt_knn.predict(x_test)\n",
    "accuracy_score(y_test , y_pred_knn)"
   ]
  },
  {
   "cell_type": "code",
   "execution_count": 47,
   "id": "12249299",
   "metadata": {
    "execution": {
     "iopub.execute_input": "2021-08-03T06:52:43.048586Z",
     "iopub.status.busy": "2021-08-03T06:52:43.047921Z",
     "iopub.status.idle": "2021-08-03T06:52:43.057063Z",
     "shell.execute_reply": "2021-08-03T06:52:43.057988Z",
     "shell.execute_reply.started": "2021-08-03T06:23:20.817769Z"
    },
    "papermill": {
     "duration": 0.155067,
     "end_time": "2021-08-03T06:52:43.058238",
     "exception": false,
     "start_time": "2021-08-03T06:52:42.903171",
     "status": "completed"
    },
    "tags": []
   },
   "outputs": [
    {
     "name": "stdout",
     "output_type": "stream",
     "text": [
      "              precision    recall  f1-score   support\n",
      "\n",
      "           0       0.95      0.90      0.93       273\n",
      "           1       0.57      0.72      0.64        47\n",
      "\n",
      "    accuracy                           0.88       320\n",
      "   macro avg       0.76      0.81      0.78       320\n",
      "weighted avg       0.89      0.88      0.88       320\n",
      "\n"
     ]
    }
   ],
   "source": [
    "print(classification_report(y_test , y_pred_knn))"
   ]
  },
  {
   "cell_type": "markdown",
   "id": "aa28b678",
   "metadata": {
    "papermill": {
     "duration": 0.143546,
     "end_time": "2021-08-03T06:52:43.345037",
     "exception": false,
     "start_time": "2021-08-03T06:52:43.201491",
     "status": "completed"
    },
    "tags": []
   },
   "source": [
    "So, what is this table ? Let's explain.\n",
    "\n",
    "For all models, you can evaluate it this way."
   ]
  },
  {
   "cell_type": "markdown",
   "id": "abfc6c81",
   "metadata": {
    "papermill": {
     "duration": 0.140135,
     "end_time": "2021-08-03T06:52:43.625958",
     "exception": false,
     "start_time": "2021-08-03T06:52:43.485823",
     "status": "completed"
    },
    "tags": []
   },
   "source": [
    "![](http://www.linkpicture.com/q/Sunu1_3.jpg)"
   ]
  },
  {
   "cell_type": "code",
   "execution_count": 48,
   "id": "9b561fb4",
   "metadata": {
    "execution": {
     "iopub.execute_input": "2021-08-03T06:52:43.925469Z",
     "iopub.status.busy": "2021-08-03T06:52:43.924456Z",
     "iopub.status.idle": "2021-08-03T06:52:44.112426Z",
     "shell.execute_reply": "2021-08-03T06:52:44.111770Z",
     "shell.execute_reply.started": "2021-08-03T06:23:20.829316Z"
    },
    "papermill": {
     "duration": 0.349356,
     "end_time": "2021-08-03T06:52:44.112574",
     "exception": false,
     "start_time": "2021-08-03T06:52:43.763218",
     "status": "completed"
    },
    "tags": []
   },
   "outputs": [
    {
     "data": {
      "image/png": "[encoded data removed]",
      "text/plain": [
       "<Figure size 432x288 with 2 Axes>"
      ]
     },
     "metadata": {},
     "output_type": "display_data"
    }
   ],
   "source": [
    "score = round(accuracy_score(y_test, y_pred_knn), 6)\n",
    "cm = confusion_matrix(y_test, y_pred_knn)\n",
    "sns.heatmap(cm, annot = True, fmt = \".0f\")\n",
    "plt.xlabel(\"Predicted Values\")\n",
    "plt.ylabel(\"Actual Values\")\n",
    "plt.title(\"Accuracy Score: {0}\".format(score), size = 15)\n",
    "plt.show()"
   ]
  },
  {
   "cell_type": "markdown",
   "id": "20ef3d46",
   "metadata": {
    "papermill": {
     "duration": 0.134068,
     "end_time": "2021-08-03T06:52:44.383199",
     "exception": false,
     "start_time": "2021-08-03T06:52:44.249131",
     "status": "completed"
    },
    "tags": []
   },
   "source": [
    "#### Logistic Regression"
   ]
  },
  {
   "cell_type": "code",
   "execution_count": 49,
   "id": "8db938e8",
   "metadata": {
    "execution": {
     "iopub.execute_input": "2021-08-03T06:52:44.658720Z",
     "iopub.status.busy": "2021-08-03T06:52:44.657760Z",
     "iopub.status.idle": "2021-08-03T06:52:44.671669Z",
     "shell.execute_reply": "2021-08-03T06:52:44.672073Z",
     "shell.execute_reply.started": "2021-08-03T06:23:21.064924Z"
    },
    "papermill": {
     "duration": 0.151702,
     "end_time": "2021-08-03T06:52:44.672226",
     "exception": false,
     "start_time": "2021-08-03T06:52:44.520524",
     "status": "completed"
    },
    "tags": []
   },
   "outputs": [],
   "source": [
    "logi = LogisticRegression(solver = \"liblinear\")\n",
    "log_model = logi.fit(x_train,y_train)"
   ]
  },
  {
   "cell_type": "code",
   "execution_count": 50,
   "id": "d3b770d5",
   "metadata": {
    "execution": {
     "iopub.execute_input": "2021-08-03T06:52:44.957780Z",
     "iopub.status.busy": "2021-08-03T06:52:44.956840Z",
     "iopub.status.idle": "2021-08-03T06:52:44.960339Z",
     "shell.execute_reply": "2021-08-03T06:52:44.960788Z",
     "shell.execute_reply.started": "2021-08-03T06:23:21.075263Z"
    },
    "papermill": {
     "duration": 0.153726,
     "end_time": "2021-08-03T06:52:44.960943",
     "exception": false,
     "start_time": "2021-08-03T06:52:44.807217",
     "status": "completed"
    },
    "tags": []
   },
   "outputs": [
    {
     "data": {
      "text/plain": [
       "array([[0.9175195 , 0.0824805 ],\n",
       "       [0.97295502, 0.02704498],\n",
       "       [0.65680933, 0.34319067],\n",
       "       [0.89788912, 0.10211088],\n",
       "       [0.71828488, 0.28171512]])"
      ]
     },
     "execution_count": 50,
     "metadata": {},
     "output_type": "execute_result"
    }
   ],
   "source": [
    "log_model.predict_proba(x_test)[:5]"
   ]
  },
  {
   "cell_type": "code",
   "execution_count": 51,
   "id": "100b89d5",
   "metadata": {
    "execution": {
     "iopub.execute_input": "2021-08-03T06:52:45.247551Z",
     "iopub.status.busy": "2021-08-03T06:52:45.246616Z",
     "iopub.status.idle": "2021-08-03T06:52:45.252825Z",
     "shell.execute_reply": "2021-08-03T06:52:45.253327Z",
     "shell.execute_reply.started": "2021-08-03T06:23:21.086727Z"
    },
    "papermill": {
     "duration": 0.151825,
     "end_time": "2021-08-03T06:52:45.253506",
     "exception": false,
     "start_time": "2021-08-03T06:52:45.101681",
     "status": "completed"
    },
    "tags": []
   },
   "outputs": [
    {
     "data": {
      "text/plain": [
       "0.803125"
      ]
     },
     "execution_count": 51,
     "metadata": {},
     "output_type": "execute_result"
    }
   ],
   "source": [
    "y_pred_logi = log_model.predict(x_test)\n",
    "accuracy_score(y_test, y_pred_logi)"
   ]
  },
  {
   "cell_type": "code",
   "execution_count": 52,
   "id": "b443b52b",
   "metadata": {
    "execution": {
     "iopub.execute_input": "2021-08-03T06:52:45.539786Z",
     "iopub.status.busy": "2021-08-03T06:52:45.537007Z",
     "iopub.status.idle": "2021-08-03T06:52:45.568595Z",
     "shell.execute_reply": "2021-08-03T06:52:45.567942Z",
     "shell.execute_reply.started": "2021-08-03T06:23:21.098576Z"
    },
    "papermill": {
     "duration": 0.175548,
     "end_time": "2021-08-03T06:52:45.568733",
     "exception": false,
     "start_time": "2021-08-03T06:52:45.393185",
     "status": "completed"
    },
    "tags": []
   },
   "outputs": [
    {
     "data": {
      "text/plain": [
       "0.85625"
      ]
     },
     "execution_count": 52,
     "metadata": {},
     "output_type": "execute_result"
    }
   ],
   "source": [
    "cross_val_score(log_model, x_test, y_test, cv = 10).mean()"
   ]
  },
  {
   "cell_type": "code",
   "execution_count": 53,
   "id": "e3b2f2a7",
   "metadata": {
    "execution": {
     "iopub.execute_input": "2021-08-03T06:52:45.859148Z",
     "iopub.status.busy": "2021-08-03T06:52:45.858534Z",
     "iopub.status.idle": "2021-08-03T06:52:45.866510Z",
     "shell.execute_reply": "2021-08-03T06:52:45.866989Z",
     "shell.execute_reply.started": "2021-08-03T06:23:21.139358Z"
    },
    "papermill": {
     "duration": 0.155956,
     "end_time": "2021-08-03T06:52:45.867165",
     "exception": false,
     "start_time": "2021-08-03T06:52:45.711209",
     "status": "completed"
    },
    "tags": []
   },
   "outputs": [
    {
     "name": "stdout",
     "output_type": "stream",
     "text": [
      "              precision    recall  f1-score   support\n",
      "\n",
      "           0       0.98      0.79      0.87       273\n",
      "           1       0.42      0.89      0.57        47\n",
      "\n",
      "    accuracy                           0.80       320\n",
      "   macro avg       0.70      0.84      0.72       320\n",
      "weighted avg       0.90      0.80      0.83       320\n",
      "\n"
     ]
    }
   ],
   "source": [
    "print(classification_report(y_test , y_pred_logi))"
   ]
  },
  {
   "cell_type": "code",
   "execution_count": 54,
   "id": "2c09a4a9",
   "metadata": {
    "execution": {
     "iopub.execute_input": "2021-08-03T06:52:46.159502Z",
     "iopub.status.busy": "2021-08-03T06:52:46.158503Z",
     "iopub.status.idle": "2021-08-03T06:52:46.346905Z",
     "shell.execute_reply": "2021-08-03T06:52:46.347482Z",
     "shell.execute_reply.started": "2021-08-03T06:23:21.149932Z"
    },
    "papermill": {
     "duration": 0.338248,
     "end_time": "2021-08-03T06:52:46.347677",
     "exception": false,
     "start_time": "2021-08-03T06:52:46.009429",
     "status": "completed"
    },
    "tags": []
   },
   "outputs": [
    {
     "data": {
      "image/png": "[encoded data removed]",
      "text/plain": [
       "<Figure size 432x288 with 2 Axes>"
      ]
     },
     "metadata": {},
     "output_type": "display_data"
    }
   ],
   "source": [
    "score = round(accuracy_score(y_test, y_pred_logi), 6)\n",
    "cm = confusion_matrix(y_test, y_pred_logi)\n",
    "sns.heatmap(cm, annot = True, fmt = \".0f\")\n",
    "plt.xlabel(\"Predicted Values\")\n",
    "plt.ylabel(\"Actual Values\")\n",
    "plt.title(\"Accuracy Score: {0}\".format(score), size = 15)\n",
    "plt.show()"
   ]
  },
  {
   "cell_type": "markdown",
   "id": "b2ac6486",
   "metadata": {
    "papermill": {
     "duration": 0.143094,
     "end_time": "2021-08-03T06:52:46.633761",
     "exception": false,
     "start_time": "2021-08-03T06:52:46.490667",
     "status": "completed"
    },
    "tags": []
   },
   "source": [
    "#### GBM (Gradient Boosting Machine)"
   ]
  },
  {
   "cell_type": "code",
   "execution_count": 55,
   "id": "d99aff57",
   "metadata": {
    "execution": {
     "iopub.execute_input": "2021-08-03T06:52:46.921965Z",
     "iopub.status.busy": "2021-08-03T06:52:46.921382Z",
     "iopub.status.idle": "2021-08-03T06:52:47.554460Z",
     "shell.execute_reply": "2021-08-03T06:52:47.553896Z",
     "shell.execute_reply.started": "2021-08-03T06:23:21.388644Z"
    },
    "papermill": {
     "duration": 0.777866,
     "end_time": "2021-08-03T06:52:47.554606",
     "exception": false,
     "start_time": "2021-08-03T06:52:46.776740",
     "status": "completed"
    },
    "tags": []
   },
   "outputs": [],
   "source": [
    "gbm = GradientBoostingClassifier()\n",
    "gbm_model = gbm.fit(x_train, y_train)"
   ]
  },
  {
   "cell_type": "code",
   "execution_count": 56,
   "id": "544d01e0",
   "metadata": {
    "execution": {
     "iopub.execute_input": "2021-08-03T06:52:47.886516Z",
     "iopub.status.busy": "2021-08-03T06:52:47.885784Z",
     "iopub.status.idle": "2021-08-03T06:52:47.888865Z",
     "shell.execute_reply": "2021-08-03T06:52:47.889419Z",
     "shell.execute_reply.started": "2021-08-03T06:23:22.048364Z"
    },
    "papermill": {
     "duration": 0.155564,
     "end_time": "2021-08-03T06:52:47.889584",
     "exception": false,
     "start_time": "2021-08-03T06:52:47.734020",
     "status": "completed"
    },
    "tags": []
   },
   "outputs": [
    {
     "data": {
      "text/plain": [
       "0.88125"
      ]
     },
     "execution_count": 56,
     "metadata": {},
     "output_type": "execute_result"
    }
   ],
   "source": [
    "y_pred_gbm = gbm_model.predict(x_test)\n",
    "accuracy_score(y_test, y_pred_gbm)"
   ]
  },
  {
   "cell_type": "markdown",
   "id": "ffbd647c",
   "metadata": {
    "papermill": {
     "duration": 0.143094,
     "end_time": "2021-08-03T06:52:48.174663",
     "exception": false,
     "start_time": "2021-08-03T06:52:48.031569",
     "status": "completed"
    },
    "tags": []
   },
   "source": [
    "#### OPTIMIZATION"
   ]
  },
  {
   "cell_type": "code",
   "execution_count": 57,
   "id": "25f8595a",
   "metadata": {
    "execution": {
     "iopub.execute_input": "2021-08-03T06:52:48.464837Z",
     "iopub.status.busy": "2021-08-03T06:52:48.463804Z",
     "iopub.status.idle": "2021-08-03T06:52:48.467219Z",
     "shell.execute_reply": "2021-08-03T06:52:48.467843Z",
     "shell.execute_reply.started": "2021-08-03T06:23:22.059334Z"
    },
    "papermill": {
     "duration": 0.149761,
     "end_time": "2021-08-03T06:52:48.468017",
     "exception": false,
     "start_time": "2021-08-03T06:52:48.318256",
     "status": "completed"
    },
    "tags": []
   },
   "outputs": [],
   "source": [
    "#gbm_params = {\"learning_rate\" : [0.001, 0.01, 0.1, 0.05],\n",
    "#             \"n_estimators\": [100,200,300,400,500,600,700],\n",
    "#             \"max_depth\": [3,5,10],\n",
    "#             \"min_samples_split\": [2,5,10]}\n",
    "\n",
    "#gbm_cv = GridSearchCV(gbm , gbm_params , cv = 10 , n_jobs = -1 , verbose = 2)\n",
    "\n",
    "#gbm_cv.fit(x_train, y_train)"
   ]
  },
  {
   "cell_type": "code",
   "execution_count": 58,
   "id": "83e30f76",
   "metadata": {
    "execution": {
     "iopub.execute_input": "2021-08-03T06:52:48.755478Z",
     "iopub.status.busy": "2021-08-03T06:52:48.754856Z",
     "iopub.status.idle": "2021-08-03T06:52:48.757537Z",
     "shell.execute_reply": "2021-08-03T06:52:48.757030Z",
     "shell.execute_reply.started": "2021-08-03T06:23:22.068683Z"
    },
    "papermill": {
     "duration": 0.146951,
     "end_time": "2021-08-03T06:52:48.757664",
     "exception": false,
     "start_time": "2021-08-03T06:52:48.610713",
     "status": "completed"
    },
    "tags": []
   },
   "outputs": [],
   "source": [
    "#print(\"Best Parameters: \" + str(gbm_cv.best_params_))"
   ]
  },
  {
   "cell_type": "markdown",
   "id": "53009fcf",
   "metadata": {
    "papermill": {
     "duration": 0.142467,
     "end_time": "2021-08-03T06:52:49.041728",
     "exception": false,
     "start_time": "2021-08-03T06:52:48.899261",
     "status": "completed"
    },
    "tags": []
   },
   "source": [
    "**Optimized Model**"
   ]
  },
  {
   "cell_type": "code",
   "execution_count": 59,
   "id": "602c9525",
   "metadata": {
    "execution": {
     "iopub.execute_input": "2021-08-03T06:52:49.333338Z",
     "iopub.status.busy": "2021-08-03T06:52:49.332706Z",
     "iopub.status.idle": "2021-08-03T06:52:56.475870Z",
     "shell.execute_reply": "2021-08-03T06:52:56.475250Z",
     "shell.execute_reply.started": "2021-08-03T06:23:22.078912Z"
    },
    "papermill": {
     "duration": 7.289898,
     "end_time": "2021-08-03T06:52:56.476013",
     "exception": false,
     "start_time": "2021-08-03T06:52:49.186115",
     "status": "completed"
    },
    "tags": []
   },
   "outputs": [],
   "source": [
    "gbm = GradientBoostingClassifier(learning_rate = 0.1, max_depth = 10 , min_samples_split = 5, n_estimators = 300)\n",
    "opt_gbm = gbm.fit(x_train, y_train)"
   ]
  },
  {
   "cell_type": "code",
   "execution_count": 60,
   "id": "6f1e965c",
   "metadata": {
    "execution": {
     "iopub.execute_input": "2021-08-03T06:52:56.777470Z",
     "iopub.status.busy": "2021-08-03T06:52:56.776844Z",
     "iopub.status.idle": "2021-08-03T06:52:56.781522Z",
     "shell.execute_reply": "2021-08-03T06:52:56.781027Z",
     "shell.execute_reply.started": "2021-08-03T06:23:29.522424Z"
    },
    "papermill": {
     "duration": 0.161474,
     "end_time": "2021-08-03T06:52:56.781658",
     "exception": false,
     "start_time": "2021-08-03T06:52:56.620184",
     "status": "completed"
    },
    "tags": []
   },
   "outputs": [
    {
     "data": {
      "text/plain": [
       "0.896875"
      ]
     },
     "execution_count": 60,
     "metadata": {},
     "output_type": "execute_result"
    }
   ],
   "source": [
    "y_pred_gbm = opt_gbm.predict(x_test)\n",
    "accuracy_score(y_test, y_pred_gbm)"
   ]
  },
  {
   "cell_type": "code",
   "execution_count": 61,
   "id": "63640df3",
   "metadata": {
    "execution": {
     "iopub.execute_input": "2021-08-03T06:52:57.078760Z",
     "iopub.status.busy": "2021-08-03T06:52:57.077769Z",
     "iopub.status.idle": "2021-08-03T06:52:57.086730Z",
     "shell.execute_reply": "2021-08-03T06:52:57.086022Z",
     "shell.execute_reply.started": "2021-08-03T06:23:29.540768Z"
    },
    "papermill": {
     "duration": 0.159837,
     "end_time": "2021-08-03T06:52:57.086906",
     "exception": false,
     "start_time": "2021-08-03T06:52:56.927069",
     "status": "completed"
    },
    "tags": []
   },
   "outputs": [
    {
     "name": "stdout",
     "output_type": "stream",
     "text": [
      "              precision    recall  f1-score   support\n",
      "\n",
      "           0       0.94      0.94      0.94       273\n",
      "           1       0.65      0.66      0.65        47\n",
      "\n",
      "    accuracy                           0.90       320\n",
      "   macro avg       0.79      0.80      0.80       320\n",
      "weighted avg       0.90      0.90      0.90       320\n",
      "\n"
     ]
    }
   ],
   "source": [
    "print(classification_report(y_test , y_pred_gbm))"
   ]
  },
  {
   "cell_type": "code",
   "execution_count": 62,
   "id": "1840bf54",
   "metadata": {
    "execution": {
     "iopub.execute_input": "2021-08-03T06:52:57.397287Z",
     "iopub.status.busy": "2021-08-03T06:52:57.381061Z",
     "iopub.status.idle": "2021-08-03T06:52:57.572996Z",
     "shell.execute_reply": "2021-08-03T06:52:57.572515Z",
     "shell.execute_reply.started": "2021-08-03T06:23:29.555812Z"
    },
    "papermill": {
     "duration": 0.34164,
     "end_time": "2021-08-03T06:52:57.573129",
     "exception": false,
     "start_time": "2021-08-03T06:52:57.231489",
     "status": "completed"
    },
    "tags": []
   },
   "outputs": [
    {
     "data": {
      "image/png": "[encoded data removed]",
      "text/plain": [
       "<Figure size 432x288 with 2 Axes>"
      ]
     },
     "metadata": {},
     "output_type": "display_data"
    }
   ],
   "source": [
    "score = round(accuracy_score(y_test, y_pred_gbm), 6)\n",
    "cm = confusion_matrix(y_test, y_pred_gbm)\n",
    "sns.heatmap(cm, annot = True, fmt = \".0f\")\n",
    "plt.xlabel(\"Predicted Values\")\n",
    "plt.ylabel(\"Actual Values\")\n",
    "plt.title(\"Accuracy Score: {0}\".format(score), size = 15)\n",
    "plt.show()"
   ]
  },
  {
   "cell_type": "markdown",
   "id": "cb7ad2fd",
   "metadata": {
    "papermill": {
     "duration": 0.16132,
     "end_time": "2021-08-03T06:52:57.905885",
     "exception": false,
     "start_time": "2021-08-03T06:52:57.744565",
     "status": "completed"
    },
    "tags": []
   },
   "source": [
    "#### Naive Bayes"
   ]
  },
  {
   "cell_type": "code",
   "execution_count": 63,
   "id": "1c169ec7",
   "metadata": {
    "execution": {
     "iopub.execute_input": "2021-08-03T06:52:58.223247Z",
     "iopub.status.busy": "2021-08-03T06:52:58.222640Z",
     "iopub.status.idle": "2021-08-03T06:52:58.227665Z",
     "shell.execute_reply": "2021-08-03T06:52:58.226926Z",
     "shell.execute_reply.started": "2021-08-03T06:23:29.800334Z"
    },
    "papermill": {
     "duration": 0.15898,
     "end_time": "2021-08-03T06:52:58.227811",
     "exception": false,
     "start_time": "2021-08-03T06:52:58.068831",
     "status": "completed"
    },
    "tags": []
   },
   "outputs": [],
   "source": [
    "nb = GaussianNB()\n",
    "nb_model = nb.fit(x_train , y_train)"
   ]
  },
  {
   "cell_type": "code",
   "execution_count": 64,
   "id": "1ea8c818",
   "metadata": {
    "execution": {
     "iopub.execute_input": "2021-08-03T06:52:58.530142Z",
     "iopub.status.busy": "2021-08-03T06:52:58.529500Z",
     "iopub.status.idle": "2021-08-03T06:52:58.535134Z",
     "shell.execute_reply": "2021-08-03T06:52:58.535595Z",
     "shell.execute_reply.started": "2021-08-03T06:23:29.807566Z"
    },
    "papermill": {
     "duration": 0.159332,
     "end_time": "2021-08-03T06:52:58.535766",
     "exception": false,
     "start_time": "2021-08-03T06:52:58.376434",
     "status": "completed"
    },
    "tags": []
   },
   "outputs": [
    {
     "data": {
      "text/plain": [
       "array([[0.96931896, 0.03068104],\n",
       "       [0.9956919 , 0.0043081 ],\n",
       "       [0.90722603, 0.09277397],\n",
       "       [0.9351253 , 0.0648747 ],\n",
       "       [0.37097196, 0.62902804]])"
      ]
     },
     "execution_count": 64,
     "metadata": {},
     "output_type": "execute_result"
    }
   ],
   "source": [
    "nb_model.predict_proba(x_test)[:5]"
   ]
  },
  {
   "cell_type": "code",
   "execution_count": 65,
   "id": "bf0e2591",
   "metadata": {
    "execution": {
     "iopub.execute_input": "2021-08-03T06:52:58.830662Z",
     "iopub.status.busy": "2021-08-03T06:52:58.830062Z",
     "iopub.status.idle": "2021-08-03T06:52:58.835610Z",
     "shell.execute_reply": "2021-08-03T06:52:58.836086Z",
     "shell.execute_reply.started": "2021-08-03T06:23:29.834205Z"
    },
    "papermill": {
     "duration": 0.15467,
     "end_time": "2021-08-03T06:52:58.836240",
     "exception": false,
     "start_time": "2021-08-03T06:52:58.681570",
     "status": "completed"
    },
    "tags": []
   },
   "outputs": [
    {
     "data": {
      "text/plain": [
       "0.728125"
      ]
     },
     "execution_count": 65,
     "metadata": {},
     "output_type": "execute_result"
    }
   ],
   "source": [
    "y_pred_nb = nb_model.predict(x_test)\n",
    "accuracy_score(y_test , y_pred_nb)"
   ]
  },
  {
   "cell_type": "code",
   "execution_count": 66,
   "id": "a417e798",
   "metadata": {
    "execution": {
     "iopub.execute_input": "2021-08-03T06:52:59.134067Z",
     "iopub.status.busy": "2021-08-03T06:52:59.133445Z",
     "iopub.status.idle": "2021-08-03T06:52:59.157241Z",
     "shell.execute_reply": "2021-08-03T06:52:59.157706Z",
     "shell.execute_reply.started": "2021-08-03T06:23:29.845329Z"
    },
    "papermill": {
     "duration": 0.17534,
     "end_time": "2021-08-03T06:52:59.157910",
     "exception": false,
     "start_time": "2021-08-03T06:52:58.982570",
     "status": "completed"
    },
    "tags": []
   },
   "outputs": [
    {
     "data": {
      "text/plain": [
       "0.84375"
      ]
     },
     "execution_count": 66,
     "metadata": {},
     "output_type": "execute_result"
    }
   ],
   "source": [
    "cross_val_score(nb_model, x_test, y_test, cv = 10).mean()"
   ]
  },
  {
   "cell_type": "code",
   "execution_count": 67,
   "id": "f6c07df5",
   "metadata": {
    "execution": {
     "iopub.execute_input": "2021-08-03T06:52:59.456293Z",
     "iopub.status.busy": "2021-08-03T06:52:59.455687Z",
     "iopub.status.idle": "2021-08-03T06:52:59.464721Z",
     "shell.execute_reply": "2021-08-03T06:52:59.465162Z",
     "shell.execute_reply.started": "2021-08-03T06:23:29.875066Z"
    },
    "papermill": {
     "duration": 0.15968,
     "end_time": "2021-08-03T06:52:59.465325",
     "exception": false,
     "start_time": "2021-08-03T06:52:59.305645",
     "status": "completed"
    },
    "tags": []
   },
   "outputs": [
    {
     "name": "stdout",
     "output_type": "stream",
     "text": [
      "              precision    recall  f1-score   support\n",
      "\n",
      "           0       0.97      0.70      0.82       273\n",
      "           1       0.34      0.87      0.49        47\n",
      "\n",
      "    accuracy                           0.73       320\n",
      "   macro avg       0.65      0.79      0.65       320\n",
      "weighted avg       0.88      0.73      0.77       320\n",
      "\n"
     ]
    }
   ],
   "source": [
    "print(classification_report(y_test , y_pred_nb))"
   ]
  },
  {
   "cell_type": "code",
   "execution_count": 68,
   "id": "ad76a3f9",
   "metadata": {
    "execution": {
     "iopub.execute_input": "2021-08-03T06:52:59.761048Z",
     "iopub.status.busy": "2021-08-03T06:52:59.760081Z",
     "iopub.status.idle": "2021-08-03T06:52:59.964437Z",
     "shell.execute_reply": "2021-08-03T06:52:59.963914Z",
     "shell.execute_reply.started": "2021-08-03T06:23:29.888295Z"
    },
    "papermill": {
     "duration": 0.353504,
     "end_time": "2021-08-03T06:52:59.964577",
     "exception": false,
     "start_time": "2021-08-03T06:52:59.611073",
     "status": "completed"
    },
    "tags": []
   },
   "outputs": [
    {
     "data": {
      "image/png": "[encoded data removed]",
      "text/plain": [
       "<Figure size 432x288 with 2 Axes>"
      ]
     },
     "metadata": {},
     "output_type": "display_data"
    }
   ],
   "source": [
    "score = round(accuracy_score(y_test, y_pred_nb), 6)\n",
    "cm = confusion_matrix(y_test, y_pred_nb)\n",
    "sns.heatmap(cm, annot = True, fmt = \".0f\")\n",
    "plt.xlabel(\"Predicted Values\")\n",
    "plt.ylabel(\"Actual Values\")\n",
    "plt.title(\"Accuracy Score: {0}\".format(score), size = 15)\n",
    "plt.show()"
   ]
  },
  {
   "cell_type": "markdown",
   "id": "3d92be96",
   "metadata": {
    "papermill": {
     "duration": 0.148512,
     "end_time": "2021-08-03T06:53:00.263571",
     "exception": false,
     "start_time": "2021-08-03T06:53:00.115059",
     "status": "completed"
    },
    "tags": []
   },
   "source": [
    "#### SVC (Support Vector Classifier)"
   ]
  },
  {
   "cell_type": "code",
   "execution_count": 69,
   "id": "e5604e40",
   "metadata": {
    "execution": {
     "iopub.execute_input": "2021-08-03T06:53:00.566660Z",
     "iopub.status.busy": "2021-08-03T06:53:00.566011Z",
     "iopub.status.idle": "2021-08-03T06:53:00.692332Z",
     "shell.execute_reply": "2021-08-03T06:53:00.691764Z",
     "shell.execute_reply.started": "2021-08-03T06:23:30.140633Z"
    },
    "papermill": {
     "duration": 0.280783,
     "end_time": "2021-08-03T06:53:00.692487",
     "exception": false,
     "start_time": "2021-08-03T06:53:00.411704",
     "status": "completed"
    },
    "tags": []
   },
   "outputs": [],
   "source": [
    "svc = SVC()\n",
    "svc_model = svc.fit(x_train , y_train)"
   ]
  },
  {
   "cell_type": "code",
   "execution_count": 70,
   "id": "f26424e3",
   "metadata": {
    "execution": {
     "iopub.execute_input": "2021-08-03T06:53:00.994982Z",
     "iopub.status.busy": "2021-08-03T06:53:00.994271Z",
     "iopub.status.idle": "2021-08-03T06:53:01.010551Z",
     "shell.execute_reply": "2021-08-03T06:53:01.010000Z",
     "shell.execute_reply.started": "2021-08-03T06:23:30.261913Z"
    },
    "papermill": {
     "duration": 0.168973,
     "end_time": "2021-08-03T06:53:01.010690",
     "exception": false,
     "start_time": "2021-08-03T06:53:00.841717",
     "status": "completed"
    },
    "tags": []
   },
   "outputs": [
    {
     "data": {
      "text/plain": [
       "0.871875"
      ]
     },
     "execution_count": 70,
     "metadata": {},
     "output_type": "execute_result"
    }
   ],
   "source": [
    "y_pred_svc = svc_model.predict(x_test)\n",
    "accuracy_score(y_test , y_pred_svc)"
   ]
  },
  {
   "cell_type": "markdown",
   "id": "a0b36bf0",
   "metadata": {
    "papermill": {
     "duration": 0.150785,
     "end_time": "2021-08-03T06:53:01.313266",
     "exception": false,
     "start_time": "2021-08-03T06:53:01.162481",
     "status": "completed"
    },
    "tags": []
   },
   "source": [
    "#### OPTIMIZATION"
   ]
  },
  {
   "cell_type": "code",
   "execution_count": 71,
   "id": "953a2463",
   "metadata": {
    "execution": {
     "iopub.execute_input": "2021-08-03T06:53:01.620346Z",
     "iopub.status.busy": "2021-08-03T06:53:01.619698Z",
     "iopub.status.idle": "2021-08-03T06:53:45.442160Z",
     "shell.execute_reply": "2021-08-03T06:53:45.441634Z",
     "shell.execute_reply.started": "2021-08-03T06:23:30.281364Z"
    },
    "papermill": {
     "duration": 43.979099,
     "end_time": "2021-08-03T06:53:45.442300",
     "exception": false,
     "start_time": "2021-08-03T06:53:01.463201",
     "status": "completed"
    },
    "tags": []
   },
   "outputs": [
    {
     "name": "stdout",
     "output_type": "stream",
     "text": [
      "Fitting 10 folds for each of 56 candidates, totalling 560 fits\n"
     ]
    },
    {
     "name": "stderr",
     "output_type": "stream",
     "text": [
      "[Parallel(n_jobs=-1)]: Using backend LokyBackend with 4 concurrent workers.\n",
      "[Parallel(n_jobs=-1)]: Done  33 tasks      | elapsed:    4.8s\n",
      "[Parallel(n_jobs=-1)]: Done 154 tasks      | elapsed:   13.3s\n",
      "[Parallel(n_jobs=-1)]: Done 357 tasks      | elapsed:   28.1s\n",
      "[Parallel(n_jobs=-1)]: Done 560 out of 560 | elapsed:   43.4s finished\n"
     ]
    },
    {
     "data": {
      "text/plain": [
       "GridSearchCV(cv=10, estimator=SVC(), n_jobs=-1,\n",
       "             param_grid={'C': [0.01, 0.1, 1, 2, 3, 5, 7, 10],\n",
       "                         'gamma': [0.01, 0.1, 1, 3, 5, 7, 10]},\n",
       "             verbose=2)"
      ]
     },
     "execution_count": 71,
     "metadata": {},
     "output_type": "execute_result"
    }
   ],
   "source": [
    "svc_params = { \"C\" : [0.01 , 0.1 , 1 , 2 , 3 , 5 , 7 , 10],\n",
    "             \"gamma\" : [0.01 , 0.1 , 1 , 3 , 5 , 7 , 10]}\n",
    "\n",
    "svc_cv_model = GridSearchCV(svc,svc_params, \n",
    "                            cv = 10, \n",
    "                            n_jobs = -1, \n",
    "                            verbose = 2)\n",
    "\n",
    "svc_cv_model.fit(x_train, y_train)"
   ]
  },
  {
   "cell_type": "code",
   "execution_count": 72,
   "id": "eb7712a8",
   "metadata": {
    "execution": {
     "iopub.execute_input": "2021-08-03T06:53:45.754189Z",
     "iopub.status.busy": "2021-08-03T06:53:45.753539Z",
     "iopub.status.idle": "2021-08-03T06:53:45.756588Z",
     "shell.execute_reply": "2021-08-03T06:53:45.757423Z",
     "shell.execute_reply.started": "2021-08-03T06:24:10.781678Z"
    },
    "papermill": {
     "duration": 0.159552,
     "end_time": "2021-08-03T06:53:45.757645",
     "exception": false,
     "start_time": "2021-08-03T06:53:45.598093",
     "status": "completed"
    },
    "tags": []
   },
   "outputs": [
    {
     "name": "stdout",
     "output_type": "stream",
     "text": [
      "Best Parameters: {'C': 2, 'gamma': 1}\n"
     ]
    }
   ],
   "source": [
    "print(\"Best Parameters: \" + str(svc_cv_model.best_params_))"
   ]
  },
  {
   "cell_type": "markdown",
   "id": "93e540d9",
   "metadata": {
    "papermill": {
     "duration": 0.155635,
     "end_time": "2021-08-03T06:53:46.068333",
     "exception": false,
     "start_time": "2021-08-03T06:53:45.912698",
     "status": "completed"
    },
    "tags": []
   },
   "source": [
    "**Optimized Model**"
   ]
  },
  {
   "cell_type": "code",
   "execution_count": 73,
   "id": "d1d4853d",
   "metadata": {
    "execution": {
     "iopub.execute_input": "2021-08-03T06:53:46.377324Z",
     "iopub.status.busy": "2021-08-03T06:53:46.376668Z",
     "iopub.status.idle": "2021-08-03T06:53:46.599624Z",
     "shell.execute_reply": "2021-08-03T06:53:46.600109Z",
     "shell.execute_reply.started": "2021-08-03T06:24:10.794744Z"
    },
    "papermill": {
     "duration": 0.380031,
     "end_time": "2021-08-03T06:53:46.600298",
     "exception": false,
     "start_time": "2021-08-03T06:53:46.220267",
     "status": "completed"
    },
    "tags": []
   },
   "outputs": [],
   "source": [
    "opt_svc = SVC(C = 2 , gamma = 1).fit(x_train, y_train)"
   ]
  },
  {
   "cell_type": "code",
   "execution_count": 74,
   "id": "8ceeaffe",
   "metadata": {
    "execution": {
     "iopub.execute_input": "2021-08-03T06:53:46.911284Z",
     "iopub.status.busy": "2021-08-03T06:53:46.910619Z",
     "iopub.status.idle": "2021-08-03T06:53:46.928983Z",
     "shell.execute_reply": "2021-08-03T06:53:46.929533Z",
     "shell.execute_reply.started": "2021-08-03T06:24:11.013627Z"
    },
    "papermill": {
     "duration": 0.177071,
     "end_time": "2021-08-03T06:53:46.929699",
     "exception": false,
     "start_time": "2021-08-03T06:53:46.752628",
     "status": "completed"
    },
    "tags": []
   },
   "outputs": [
    {
     "data": {
      "text/plain": [
       "0.909375"
      ]
     },
     "execution_count": 74,
     "metadata": {},
     "output_type": "execute_result"
    }
   ],
   "source": [
    "y_pred_svc = opt_svc.predict(x_test)\n",
    "accuracy_score(y_test, y_pred_svc)"
   ]
  },
  {
   "cell_type": "code",
   "execution_count": 75,
   "id": "e9059d10",
   "metadata": {
    "execution": {
     "iopub.execute_input": "2021-08-03T06:53:47.239284Z",
     "iopub.status.busy": "2021-08-03T06:53:47.238282Z",
     "iopub.status.idle": "2021-08-03T06:53:47.247910Z",
     "shell.execute_reply": "2021-08-03T06:53:47.248423Z",
     "shell.execute_reply.started": "2021-08-03T06:24:11.034221Z"
    },
    "papermill": {
     "duration": 0.164125,
     "end_time": "2021-08-03T06:53:47.248595",
     "exception": false,
     "start_time": "2021-08-03T06:53:47.084470",
     "status": "completed"
    },
    "tags": []
   },
   "outputs": [
    {
     "name": "stdout",
     "output_type": "stream",
     "text": [
      "              precision    recall  f1-score   support\n",
      "\n",
      "           0       0.92      0.97      0.95       273\n",
      "           1       0.78      0.53      0.63        47\n",
      "\n",
      "    accuracy                           0.91       320\n",
      "   macro avg       0.85      0.75      0.79       320\n",
      "weighted avg       0.90      0.91      0.90       320\n",
      "\n"
     ]
    }
   ],
   "source": [
    "print(classification_report(y_test , y_pred_svc))"
   ]
  },
  {
   "cell_type": "code",
   "execution_count": 76,
   "id": "750d48b1",
   "metadata": {
    "execution": {
     "iopub.execute_input": "2021-08-03T06:53:47.556385Z",
     "iopub.status.busy": "2021-08-03T06:53:47.555466Z",
     "iopub.status.idle": "2021-08-03T06:53:47.801571Z",
     "shell.execute_reply": "2021-08-03T06:53:47.802075Z",
     "shell.execute_reply.started": "2021-08-03T06:24:11.046017Z"
    },
    "papermill": {
     "duration": 0.401689,
     "end_time": "2021-08-03T06:53:47.802242",
     "exception": false,
     "start_time": "2021-08-03T06:53:47.400553",
     "status": "completed"
    },
    "tags": []
   },
   "outputs": [
    {
     "data": {
      "image/png": "[encoded data removed]",
      "text/plain": [
       "<Figure size 432x288 with 2 Axes>"
      ]
     },
     "metadata": {},
     "output_type": "display_data"
    }
   ],
   "source": [
    "score = round(accuracy_score(y_test, y_pred_svc), 6)\n",
    "cm = confusion_matrix(y_test, y_pred_svc)\n",
    "sns.heatmap(cm, annot = True, fmt = \".0f\")\n",
    "plt.xlabel(\"Predicted Values\")\n",
    "plt.ylabel(\"Actual Values\")\n",
    "plt.title(\"Accuracy Score: {0}\".format(score), size = 15)\n",
    "plt.show()"
   ]
  },
  {
   "cell_type": "markdown",
   "id": "88a77f1d",
   "metadata": {
    "papermill": {
     "duration": 0.154678,
     "end_time": "2021-08-03T06:53:48.113164",
     "exception": false,
     "start_time": "2021-08-03T06:53:47.958486",
     "status": "completed"
    },
    "tags": []
   },
   "source": [
    "#### MLP Classifier (Multi-Layer Perceptron Classifier)"
   ]
  },
  {
   "cell_type": "code",
   "execution_count": 77,
   "id": "00486212",
   "metadata": {
    "execution": {
     "iopub.execute_input": "2021-08-03T06:53:48.419985Z",
     "iopub.status.busy": "2021-08-03T06:53:48.419044Z",
     "iopub.status.idle": "2021-08-03T06:53:52.243612Z",
     "shell.execute_reply": "2021-08-03T06:53:52.244451Z",
     "shell.execute_reply.started": "2021-08-03T06:24:11.288817Z"
    },
    "papermill": {
     "duration": 3.979234,
     "end_time": "2021-08-03T06:53:52.244701",
     "exception": false,
     "start_time": "2021-08-03T06:53:48.265467",
     "status": "completed"
    },
    "tags": []
   },
   "outputs": [],
   "source": [
    "mlpc = MLPClassifier()\n",
    "mlpc_model = mlpc.fit(x_train , y_train)"
   ]
  },
  {
   "cell_type": "code",
   "execution_count": 78,
   "id": "c7ad7f2d",
   "metadata": {
    "execution": {
     "iopub.execute_input": "2021-08-03T06:53:52.600948Z",
     "iopub.status.busy": "2021-08-03T06:53:52.600062Z",
     "iopub.status.idle": "2021-08-03T06:53:52.608795Z",
     "shell.execute_reply": "2021-08-03T06:53:52.609654Z",
     "shell.execute_reply.started": "2021-08-03T06:24:15.034032Z"
    },
    "papermill": {
     "duration": 0.164889,
     "end_time": "2021-08-03T06:53:52.609901",
     "exception": false,
     "start_time": "2021-08-03T06:53:52.445012",
     "status": "completed"
    },
    "tags": []
   },
   "outputs": [
    {
     "data": {
      "text/plain": [
       "0.8625"
      ]
     },
     "execution_count": 78,
     "metadata": {},
     "output_type": "execute_result"
    }
   ],
   "source": [
    "y_pred_mlpc = mlpc.predict(x_test)\n",
    "accuracy_score(y_test, y_pred_mlpc)"
   ]
  },
  {
   "cell_type": "markdown",
   "id": "5abcf75e",
   "metadata": {
    "papermill": {
     "duration": 0.151589,
     "end_time": "2021-08-03T06:53:52.962886",
     "exception": false,
     "start_time": "2021-08-03T06:53:52.811297",
     "status": "completed"
    },
    "tags": []
   },
   "source": [
    "#### OPTIMIZATION"
   ]
  },
  {
   "cell_type": "code",
   "execution_count": 79,
   "id": "b87c5646",
   "metadata": {
    "execution": {
     "iopub.execute_input": "2021-08-03T06:53:53.269346Z",
     "iopub.status.busy": "2021-08-03T06:53:53.268643Z",
     "iopub.status.idle": "2021-08-03T06:53:53.271126Z",
     "shell.execute_reply": "2021-08-03T06:53:53.270549Z",
     "shell.execute_reply.started": "2021-08-03T06:24:15.049715Z"
    },
    "papermill": {
     "duration": 0.157695,
     "end_time": "2021-08-03T06:53:53.271263",
     "exception": false,
     "start_time": "2021-08-03T06:53:53.113568",
     "status": "completed"
    },
    "tags": []
   },
   "outputs": [],
   "source": [
    "#mlpc_params = {\"alpha\": [0.1, 0.01, 0.02, 0.005, 0.0001],\n",
    "#              \"hidden_layer_sizes\": [(10,10,10),(100,100,100),(100,100),(10,10),(100,)],\n",
    "#              \"solver\" : [\"lbfgs\",\"adam\",\"sgd\"],\n",
    "#              \"activation\": [\"relu\",\"logistic\"]}\n",
    "\n",
    "#mlpc_cv_model = GridSearchCV(mlpc , mlpc_params , cv = 10 , n_jobs = -1 , verbose = 2)\n",
    "\n",
    "#mlpc_cv_model.fit(x_train , y_train)"
   ]
  },
  {
   "cell_type": "code",
   "execution_count": 80,
   "id": "99ec11e5",
   "metadata": {
    "execution": {
     "iopub.execute_input": "2021-08-03T06:53:53.580232Z",
     "iopub.status.busy": "2021-08-03T06:53:53.579632Z",
     "iopub.status.idle": "2021-08-03T06:53:53.582489Z",
     "shell.execute_reply": "2021-08-03T06:53:53.582946Z",
     "shell.execute_reply.started": "2021-08-03T06:24:15.05711Z"
    },
    "papermill": {
     "duration": 0.158989,
     "end_time": "2021-08-03T06:53:53.583102",
     "exception": false,
     "start_time": "2021-08-03T06:53:53.424113",
     "status": "completed"
    },
    "tags": []
   },
   "outputs": [],
   "source": [
    "#print(\"Best Parameters: \" + str(mlpc_cv_model.best_params_))"
   ]
  },
  {
   "cell_type": "markdown",
   "id": "14b10396",
   "metadata": {
    "papermill": {
     "duration": 0.14791,
     "end_time": "2021-08-03T06:53:53.880700",
     "exception": false,
     "start_time": "2021-08-03T06:53:53.732790",
     "status": "completed"
    },
    "tags": []
   },
   "source": [
    "**Optimized Model**"
   ]
  },
  {
   "cell_type": "code",
   "execution_count": 81,
   "id": "e7645ddb",
   "metadata": {
    "execution": {
     "iopub.execute_input": "2021-08-03T06:53:54.183140Z",
     "iopub.status.busy": "2021-08-03T06:53:54.182508Z",
     "iopub.status.idle": "2021-08-03T06:54:00.576101Z",
     "shell.execute_reply": "2021-08-03T06:54:00.576955Z",
     "shell.execute_reply.started": "2021-08-03T06:24:15.069215Z"
    },
    "papermill": {
     "duration": 6.548447,
     "end_time": "2021-08-03T06:54:00.577214",
     "exception": false,
     "start_time": "2021-08-03T06:53:54.028767",
     "status": "completed"
    },
    "tags": []
   },
   "outputs": [],
   "source": [
    "mlpc = MLPClassifier(activation = \"relu\" , alpha = 0.01,\n",
    "                     hidden_layer_sizes = (100, 100, 100) , solver = \"adam\")\n",
    "opt_mlpc = mlpc.fit(x_train , y_train)"
   ]
  },
  {
   "cell_type": "code",
   "execution_count": 82,
   "id": "29054dc4",
   "metadata": {
    "execution": {
     "iopub.execute_input": "2021-08-03T06:54:00.958711Z",
     "iopub.status.busy": "2021-08-03T06:54:00.957737Z",
     "iopub.status.idle": "2021-08-03T06:54:00.969449Z",
     "shell.execute_reply": "2021-08-03T06:54:00.968510Z",
     "shell.execute_reply.started": "2021-08-03T06:24:20.61911Z"
    },
    "papermill": {
     "duration": 0.190887,
     "end_time": "2021-08-03T06:54:00.969653",
     "exception": false,
     "start_time": "2021-08-03T06:54:00.778766",
     "status": "completed"
    },
    "tags": []
   },
   "outputs": [
    {
     "data": {
      "text/plain": [
       "0.89375"
      ]
     },
     "execution_count": 82,
     "metadata": {},
     "output_type": "execute_result"
    }
   ],
   "source": [
    "y_pred_mlpc = opt_mlpc.predict(x_test)\n",
    "accuracy_score(y_test, y_pred_mlpc)"
   ]
  },
  {
   "cell_type": "code",
   "execution_count": 83,
   "id": "c9e09ae0",
   "metadata": {
    "execution": {
     "iopub.execute_input": "2021-08-03T06:54:01.325580Z",
     "iopub.status.busy": "2021-08-03T06:54:01.324930Z",
     "iopub.status.idle": "2021-08-03T06:54:01.332397Z",
     "shell.execute_reply": "2021-08-03T06:54:01.332816Z",
     "shell.execute_reply.started": "2021-08-03T06:24:20.642056Z"
    },
    "papermill": {
     "duration": 0.16049,
     "end_time": "2021-08-03T06:54:01.332975",
     "exception": false,
     "start_time": "2021-08-03T06:54:01.172485",
     "status": "completed"
    },
    "tags": []
   },
   "outputs": [
    {
     "name": "stdout",
     "output_type": "stream",
     "text": [
      "              precision    recall  f1-score   support\n",
      "\n",
      "           0       0.95      0.92      0.94       273\n",
      "           1       0.62      0.72      0.67        47\n",
      "\n",
      "    accuracy                           0.89       320\n",
      "   macro avg       0.78      0.82      0.80       320\n",
      "weighted avg       0.90      0.89      0.90       320\n",
      "\n"
     ]
    }
   ],
   "source": [
    "print(classification_report(y_test , y_pred_mlpc))"
   ]
  },
  {
   "cell_type": "code",
   "execution_count": 84,
   "id": "009e5266",
   "metadata": {
    "execution": {
     "iopub.execute_input": "2021-08-03T06:54:01.635087Z",
     "iopub.status.busy": "2021-08-03T06:54:01.634393Z",
     "iopub.status.idle": "2021-08-03T06:54:01.866922Z",
     "shell.execute_reply": "2021-08-03T06:54:01.866093Z",
     "shell.execute_reply.started": "2021-08-03T06:24:20.666821Z"
    },
    "papermill": {
     "duration": 0.387181,
     "end_time": "2021-08-03T06:54:01.867060",
     "exception": false,
     "start_time": "2021-08-03T06:54:01.479879",
     "status": "completed"
    },
    "tags": []
   },
   "outputs": [
    {
     "data": {
      "image/png": "[encoded data removed]",
      "text/plain": [
       "<Figure size 432x288 with 2 Axes>"
      ]
     },
     "metadata": {},
     "output_type": "display_data"
    }
   ],
   "source": [
    "score = round(accuracy_score(y_test, y_pred_mlpc), 6)\n",
    "cm = confusion_matrix(y_test, y_pred_mlpc)\n",
    "sns.heatmap(cm, annot = True, fmt = \".0f\")\n",
    "plt.xlabel(\"Predicted Values\")\n",
    "plt.ylabel(\"Actual Values\")\n",
    "plt.title(\"Accuracy Score: {0}\".format(score), size = 15)\n",
    "plt.show()"
   ]
  },
  {
   "cell_type": "markdown",
   "id": "938bce47",
   "metadata": {
    "papermill": {
     "duration": 0.153323,
     "end_time": "2021-08-03T06:54:02.173332",
     "exception": false,
     "start_time": "2021-08-03T06:54:02.020009",
     "status": "completed"
    },
    "tags": []
   },
   "source": [
    "#### Desicion Tree Classifier"
   ]
  },
  {
   "cell_type": "code",
   "execution_count": 85,
   "id": "5027487f",
   "metadata": {
    "execution": {
     "iopub.execute_input": "2021-08-03T06:54:02.484244Z",
     "iopub.status.busy": "2021-08-03T06:54:02.483601Z",
     "iopub.status.idle": "2021-08-03T06:54:02.504483Z",
     "shell.execute_reply": "2021-08-03T06:54:02.503986Z",
     "shell.execute_reply.started": "2021-08-03T06:24:20.939948Z"
    },
    "papermill": {
     "duration": 0.17824,
     "end_time": "2021-08-03T06:54:02.504632",
     "exception": false,
     "start_time": "2021-08-03T06:54:02.326392",
     "status": "completed"
    },
    "tags": []
   },
   "outputs": [],
   "source": [
    "clf = DecisionTreeClassifier()\n",
    "clf_model = clf.fit(x_train , y_train)"
   ]
  },
  {
   "cell_type": "code",
   "execution_count": 86,
   "id": "cc76f734",
   "metadata": {
    "execution": {
     "iopub.execute_input": "2021-08-03T06:54:02.817343Z",
     "iopub.status.busy": "2021-08-03T06:54:02.815678Z",
     "iopub.status.idle": "2021-08-03T06:54:02.821656Z",
     "shell.execute_reply": "2021-08-03T06:54:02.821143Z",
     "shell.execute_reply.started": "2021-08-03T06:24:20.96546Z"
    },
    "papermill": {
     "duration": 0.164394,
     "end_time": "2021-08-03T06:54:02.821800",
     "exception": false,
     "start_time": "2021-08-03T06:54:02.657406",
     "status": "completed"
    },
    "tags": []
   },
   "outputs": [
    {
     "data": {
      "text/plain": [
       "0.84375"
      ]
     },
     "execution_count": 86,
     "metadata": {},
     "output_type": "execute_result"
    }
   ],
   "source": [
    "y_pred_clf = clf_model.predict(x_test)\n",
    "accuracy_score(y_test , y_pred_clf)"
   ]
  },
  {
   "cell_type": "code",
   "execution_count": 87,
   "id": "9cd56251",
   "metadata": {
    "execution": {
     "iopub.execute_input": "2021-08-03T06:54:03.139017Z",
     "iopub.status.busy": "2021-08-03T06:54:03.137968Z",
     "iopub.status.idle": "2021-08-03T06:54:03.145913Z",
     "shell.execute_reply": "2021-08-03T06:54:03.146594Z",
     "shell.execute_reply.started": "2021-08-03T06:24:20.975041Z"
    },
    "papermill": {
     "duration": 0.170038,
     "end_time": "2021-08-03T06:54:03.146827",
     "exception": false,
     "start_time": "2021-08-03T06:54:02.976789",
     "status": "completed"
    },
    "tags": []
   },
   "outputs": [
    {
     "name": "stdout",
     "output_type": "stream",
     "text": [
      "              precision    recall  f1-score   support\n",
      "\n",
      "           0       0.93      0.88      0.91       273\n",
      "           1       0.48      0.64      0.55        47\n",
      "\n",
      "    accuracy                           0.84       320\n",
      "   macro avg       0.71      0.76      0.73       320\n",
      "weighted avg       0.87      0.84      0.85       320\n",
      "\n"
     ]
    }
   ],
   "source": [
    "print(classification_report(y_test , y_pred_clf))"
   ]
  },
  {
   "cell_type": "code",
   "execution_count": 88,
   "id": "4df14c07",
   "metadata": {
    "execution": {
     "iopub.execute_input": "2021-08-03T06:54:03.460087Z",
     "iopub.status.busy": "2021-08-03T06:54:03.459412Z",
     "iopub.status.idle": "2021-08-03T06:54:03.697484Z",
     "shell.execute_reply": "2021-08-03T06:54:03.698155Z",
     "shell.execute_reply.started": "2021-08-03T06:24:20.989159Z"
    },
    "papermill": {
     "duration": 0.39648,
     "end_time": "2021-08-03T06:54:03.698327",
     "exception": false,
     "start_time": "2021-08-03T06:54:03.301847",
     "status": "completed"
    },
    "tags": []
   },
   "outputs": [
    {
     "data": {
      "image/png": "[encoded data removed]",
      "text/plain": [
       "<Figure size 432x288 with 2 Axes>"
      ]
     },
     "metadata": {},
     "output_type": "display_data"
    }
   ],
   "source": [
    "score = round(accuracy_score(y_test, y_pred_clf), 6)\n",
    "cm = confusion_matrix(y_test, y_pred_clf)\n",
    "sns.heatmap(cm, annot = True, fmt = \".0f\")\n",
    "plt.xlabel(\"Predicted Values\")\n",
    "plt.ylabel(\"Actual Values\")\n",
    "plt.title(\"Accuracy Score: {0}\".format(score), size = 15)\n",
    "plt.show()"
   ]
  },
  {
   "cell_type": "markdown",
   "id": "aed15c83",
   "metadata": {
    "papermill": {
     "duration": 0.154611,
     "end_time": "2021-08-03T06:54:04.009339",
     "exception": false,
     "start_time": "2021-08-03T06:54:03.854728",
     "status": "completed"
    },
    "tags": []
   },
   "source": [
    "#### Light GBM Classifier"
   ]
  },
  {
   "cell_type": "code",
   "execution_count": 89,
   "id": "17d581ff",
   "metadata": {
    "execution": {
     "iopub.execute_input": "2021-08-03T06:54:04.330213Z",
     "iopub.status.busy": "2021-08-03T06:54:04.329512Z",
     "iopub.status.idle": "2021-08-03T06:54:04.539611Z",
     "shell.execute_reply": "2021-08-03T06:54:04.540501Z",
     "shell.execute_reply.started": "2021-08-03T06:24:21.223835Z"
    },
    "papermill": {
     "duration": 0.372193,
     "end_time": "2021-08-03T06:54:04.540704",
     "exception": false,
     "start_time": "2021-08-03T06:54:04.168511",
     "status": "completed"
    },
    "tags": []
   },
   "outputs": [],
   "source": [
    "lgbm = LGBMClassifier()\n",
    "lgbm_model = lgbm.fit(x_train, y_train)"
   ]
  },
  {
   "cell_type": "code",
   "execution_count": 90,
   "id": "920f2957",
   "metadata": {
    "execution": {
     "iopub.execute_input": "2021-08-03T06:54:04.859433Z",
     "iopub.status.busy": "2021-08-03T06:54:04.858574Z",
     "iopub.status.idle": "2021-08-03T06:54:04.863266Z",
     "shell.execute_reply": "2021-08-03T06:54:04.863814Z",
     "shell.execute_reply.started": "2021-08-03T06:24:21.372101Z"
    },
    "papermill": {
     "duration": 0.166646,
     "end_time": "2021-08-03T06:54:04.864012",
     "exception": false,
     "start_time": "2021-08-03T06:54:04.697366",
     "status": "completed"
    },
    "tags": []
   },
   "outputs": [
    {
     "data": {
      "text/plain": [
       "0.90625"
      ]
     },
     "execution_count": 90,
     "metadata": {},
     "output_type": "execute_result"
    }
   ],
   "source": [
    "y_pred_lgbm = lgbm_model.predict(x_test)\n",
    "accuracy_score(y_test, y_pred_lgbm)"
   ]
  },
  {
   "cell_type": "markdown",
   "id": "316f3d61",
   "metadata": {
    "papermill": {
     "duration": 0.158718,
     "end_time": "2021-08-03T06:54:05.184017",
     "exception": false,
     "start_time": "2021-08-03T06:54:05.025299",
     "status": "completed"
    },
    "tags": []
   },
   "source": [
    "#### OPTIMIZATION"
   ]
  },
  {
   "cell_type": "code",
   "execution_count": 91,
   "id": "86d4a0b7",
   "metadata": {
    "execution": {
     "iopub.execute_input": "2021-08-03T06:54:05.506673Z",
     "iopub.status.busy": "2021-08-03T06:54:05.505986Z",
     "iopub.status.idle": "2021-08-03T07:01:23.892498Z",
     "shell.execute_reply": "2021-08-03T07:01:23.893456Z",
     "shell.execute_reply.started": "2021-08-03T06:24:21.384534Z"
    },
    "papermill": {
     "duration": 438.551965,
     "end_time": "2021-08-03T07:01:23.893685",
     "exception": false,
     "start_time": "2021-08-03T06:54:05.341720",
     "status": "completed"
    },
    "tags": []
   },
   "outputs": [
    {
     "name": "stdout",
     "output_type": "stream",
     "text": [
      "Fitting 10 folds for each of 108 candidates, totalling 1080 fits\n"
     ]
    },
    {
     "name": "stderr",
     "output_type": "stream",
     "text": [
      "[Parallel(n_jobs=-1)]: Using backend LokyBackend with 4 concurrent workers.\n",
      "[Parallel(n_jobs=-1)]: Done  33 tasks      | elapsed:    5.4s\n",
      "[Parallel(n_jobs=-1)]: Done 154 tasks      | elapsed:   42.7s\n",
      "[Parallel(n_jobs=-1)]: Done 357 tasks      | elapsed:  2.0min\n",
      "[Parallel(n_jobs=-1)]: Done 640 tasks      | elapsed:  4.1min\n",
      "[Parallel(n_jobs=-1)]: Done 1005 tasks      | elapsed:  6.7min\n",
      "[Parallel(n_jobs=-1)]: Done 1080 out of 1080 | elapsed:  7.3min finished\n"
     ]
    },
    {
     "data": {
      "text/plain": [
       "GridSearchCV(cv=10, estimator=LGBMClassifier(), n_jobs=-1,\n",
       "             param_grid={'learning_rate': [0.1, 0.01, 0.02, 0.05],\n",
       "                         'min_child_samples': [5, 10, 20],\n",
       "                         'n_estimators': [100, 500, 1000],\n",
       "                         'subsample': [0.6, 0.8, 1.0]},\n",
       "             verbose=2)"
      ]
     },
     "execution_count": 91,
     "metadata": {},
     "output_type": "execute_result"
    }
   ],
   "source": [
    "lgbm_params = {\"n_estimators\": [100 , 500 , 1000],\n",
    "               \"subsample\": [0.6 , 0.8 , 1.0],\n",
    "               \"learning_rate\": [0.1 , 0.01 , 0.02 , 0.05],\n",
    "               \"min_child_samples\": [5 , 10 , 20]}\n",
    "\n",
    "lgbm_cv_model = GridSearchCV(lgbm , lgbm_params , cv = 10 , n_jobs = -1 , verbose = 2)\n",
    "\n",
    "lgbm_cv_model.fit(x_train, y_train)"
   ]
  },
  {
   "cell_type": "code",
   "execution_count": 92,
   "id": "d270125c",
   "metadata": {
    "execution": {
     "iopub.execute_input": "2021-08-03T07:01:24.213824Z",
     "iopub.status.busy": "2021-08-03T07:01:24.213083Z",
     "iopub.status.idle": "2021-08-03T07:01:24.216660Z",
     "shell.execute_reply": "2021-08-03T07:01:24.216070Z",
     "shell.execute_reply.started": "2021-08-03T06:31:46.149983Z"
    },
    "papermill": {
     "duration": 0.16488,
     "end_time": "2021-08-03T07:01:24.216794",
     "exception": false,
     "start_time": "2021-08-03T07:01:24.051914",
     "status": "completed"
    },
    "tags": []
   },
   "outputs": [
    {
     "name": "stdout",
     "output_type": "stream",
     "text": [
      "Best Parameters: {'learning_rate': 0.1, 'min_child_samples': 10, 'n_estimators': 500, 'subsample': 0.6}\n"
     ]
    }
   ],
   "source": [
    "print(\"Best Parameters: \" + str(lgbm_cv_model.best_params_))"
   ]
  },
  {
   "cell_type": "markdown",
   "id": "1c418ca4",
   "metadata": {
    "papermill": {
     "duration": 0.152514,
     "end_time": "2021-08-03T07:01:24.524116",
     "exception": false,
     "start_time": "2021-08-03T07:01:24.371602",
     "status": "completed"
    },
    "tags": []
   },
   "source": [
    "**Optimized Model**"
   ]
  },
  {
   "cell_type": "code",
   "execution_count": 93,
   "id": "98d2cf6d",
   "metadata": {
    "execution": {
     "iopub.execute_input": "2021-08-03T07:01:24.846090Z",
     "iopub.status.busy": "2021-08-03T07:01:24.845531Z",
     "iopub.status.idle": "2021-08-03T07:01:25.384194Z",
     "shell.execute_reply": "2021-08-03T07:01:25.384841Z",
     "shell.execute_reply.started": "2021-08-03T06:31:46.157749Z"
    },
    "papermill": {
     "duration": 0.700889,
     "end_time": "2021-08-03T07:01:25.385063",
     "exception": false,
     "start_time": "2021-08-03T07:01:24.684174",
     "status": "completed"
    },
    "tags": []
   },
   "outputs": [],
   "source": [
    "lgbm = LGBMClassifier(learning_rate = 0.1 ,max_depth = 8 , min_child_samples = 10 , \n",
    "                      n_estimators = 500 , subsample = 0.6)\n",
    "\n",
    "opt_lgbm = lgbm.fit(x_train, y_train)"
   ]
  },
  {
   "cell_type": "code",
   "execution_count": 94,
   "id": "81b10e52",
   "metadata": {
    "execution": {
     "iopub.execute_input": "2021-08-03T07:01:25.759662Z",
     "iopub.status.busy": "2021-08-03T07:01:25.758856Z",
     "iopub.status.idle": "2021-08-03T07:01:25.763867Z",
     "shell.execute_reply": "2021-08-03T07:01:25.763322Z",
     "shell.execute_reply.started": "2021-08-03T06:31:46.717348Z"
    },
    "papermill": {
     "duration": 0.22101,
     "end_time": "2021-08-03T07:01:25.764029",
     "exception": false,
     "start_time": "2021-08-03T07:01:25.543019",
     "status": "completed"
    },
    "tags": []
   },
   "outputs": [
    {
     "data": {
      "text/plain": [
       "0.909375"
      ]
     },
     "execution_count": 94,
     "metadata": {},
     "output_type": "execute_result"
    }
   ],
   "source": [
    "y_pred_lgbm = opt_lgbm.predict(x_test)\n",
    "accuracy_score(y_test, y_pred_lgbm)"
   ]
  },
  {
   "cell_type": "code",
   "execution_count": 95,
   "id": "aa12d639",
   "metadata": {
    "execution": {
     "iopub.execute_input": "2021-08-03T07:01:26.089305Z",
     "iopub.status.busy": "2021-08-03T07:01:26.088692Z",
     "iopub.status.idle": "2021-08-03T07:01:26.097277Z",
     "shell.execute_reply": "2021-08-03T07:01:26.097983Z",
     "shell.execute_reply.started": "2021-08-03T06:31:46.735182Z"
    },
    "papermill": {
     "duration": 0.173545,
     "end_time": "2021-08-03T07:01:26.098316",
     "exception": false,
     "start_time": "2021-08-03T07:01:25.924771",
     "status": "completed"
    },
    "tags": []
   },
   "outputs": [
    {
     "name": "stdout",
     "output_type": "stream",
     "text": [
      "              precision    recall  f1-score   support\n",
      "\n",
      "           0       0.96      0.94      0.95       273\n",
      "           1       0.67      0.74      0.71        47\n",
      "\n",
      "    accuracy                           0.91       320\n",
      "   macro avg       0.81      0.84      0.83       320\n",
      "weighted avg       0.91      0.91      0.91       320\n",
      "\n"
     ]
    }
   ],
   "source": [
    "print(classification_report(y_test , y_pred_lgbm))"
   ]
  },
  {
   "cell_type": "code",
   "execution_count": 96,
   "id": "1fd88303",
   "metadata": {
    "execution": {
     "iopub.execute_input": "2021-08-03T07:01:26.426492Z",
     "iopub.status.busy": "2021-08-03T07:01:26.425824Z",
     "iopub.status.idle": "2021-08-03T07:01:26.659651Z",
     "shell.execute_reply": "2021-08-03T07:01:26.660126Z",
     "shell.execute_reply.started": "2021-08-03T06:31:46.746762Z"
    },
    "papermill": {
     "duration": 0.39997,
     "end_time": "2021-08-03T07:01:26.660277",
     "exception": false,
     "start_time": "2021-08-03T07:01:26.260307",
     "status": "completed"
    },
    "tags": []
   },
   "outputs": [
    {
     "data": {
      "image/png": "[encoded data removed]",
      "text/plain": [
       "<Figure size 432x288 with 2 Axes>"
      ]
     },
     "metadata": {},
     "output_type": "display_data"
    }
   ],
   "source": [
    "score = round(accuracy_score(y_test, y_pred_lgbm), 6)\n",
    "cm = confusion_matrix(y_test, y_pred_lgbm)\n",
    "sns.heatmap(cm, annot = True, fmt = \".0f\")\n",
    "plt.xlabel(\"Predicted Values\")\n",
    "plt.ylabel(\"Actual Values\")\n",
    "plt.title(\"Accuracy Score: {0}\".format(score), size = 15)\n",
    "plt.show()"
   ]
  },
  {
   "cell_type": "markdown",
   "id": "a1625831",
   "metadata": {
    "papermill": {
     "duration": 0.162921,
     "end_time": "2021-08-03T07:01:26.981871",
     "exception": false,
     "start_time": "2021-08-03T07:01:26.818950",
     "status": "completed"
    },
    "tags": []
   },
   "source": [
    "#### Random Forest Classifier"
   ]
  },
  {
   "cell_type": "code",
   "execution_count": 97,
   "id": "1a5bedd3",
   "metadata": {
    "execution": {
     "iopub.execute_input": "2021-08-03T07:01:27.308595Z",
     "iopub.status.busy": "2021-08-03T07:01:27.307921Z",
     "iopub.status.idle": "2021-08-03T07:01:27.828035Z",
     "shell.execute_reply": "2021-08-03T07:01:27.828528Z",
     "shell.execute_reply.started": "2021-08-03T06:31:46.998106Z"
    },
    "papermill": {
     "duration": 0.684577,
     "end_time": "2021-08-03T07:01:27.828724",
     "exception": false,
     "start_time": "2021-08-03T07:01:27.144147",
     "status": "completed"
    },
    "tags": []
   },
   "outputs": [],
   "source": [
    "rf = RandomForestClassifier()\n",
    "rf_model = rf.fit(x_train, y_train)"
   ]
  },
  {
   "cell_type": "code",
   "execution_count": 98,
   "id": "cdd4328b",
   "metadata": {
    "execution": {
     "iopub.execute_input": "2021-08-03T07:01:28.162223Z",
     "iopub.status.busy": "2021-08-03T07:01:28.161544Z",
     "iopub.status.idle": "2021-08-03T07:01:28.181223Z",
     "shell.execute_reply": "2021-08-03T07:01:28.181711Z",
     "shell.execute_reply.started": "2021-08-03T06:31:47.53811Z"
    },
    "papermill": {
     "duration": 0.184049,
     "end_time": "2021-08-03T07:01:28.181880",
     "exception": false,
     "start_time": "2021-08-03T07:01:27.997831",
     "status": "completed"
    },
    "tags": []
   },
   "outputs": [
    {
     "data": {
      "text/plain": [
       "0.91875"
      ]
     },
     "execution_count": 98,
     "metadata": {},
     "output_type": "execute_result"
    }
   ],
   "source": [
    "y_pred_rf = rf_model.predict(x_test)\n",
    "accuracy_score(y_test, y_pred_rf)"
   ]
  },
  {
   "cell_type": "markdown",
   "id": "12cea494",
   "metadata": {
    "papermill": {
     "duration": 0.15833,
     "end_time": "2021-08-03T07:01:28.500604",
     "exception": false,
     "start_time": "2021-08-03T07:01:28.342274",
     "status": "completed"
    },
    "tags": []
   },
   "source": [
    "#### OPTIMIZATION"
   ]
  },
  {
   "cell_type": "code",
   "execution_count": 99,
   "id": "41aa2a48",
   "metadata": {
    "execution": {
     "iopub.execute_input": "2021-08-03T07:01:28.826579Z",
     "iopub.status.busy": "2021-08-03T07:01:28.825898Z",
     "iopub.status.idle": "2021-08-03T07:01:28.828659Z",
     "shell.execute_reply": "2021-08-03T07:01:28.829101Z",
     "shell.execute_reply.started": "2021-08-03T06:31:47.565845Z"
    },
    "papermill": {
     "duration": 0.168037,
     "end_time": "2021-08-03T07:01:28.829258",
     "exception": false,
     "start_time": "2021-08-03T07:01:28.661221",
     "status": "completed"
    },
    "tags": []
   },
   "outputs": [],
   "source": [
    "#rf_params = {\"max_features\": [\"auto\",\"sqrt\",\"log2\"], \"n_estimators\": [10, 100 ,300 ,500 ,600 ,800 ,1000],\n",
    "#            \"max_depth\" : [2,5,10,15,19,25]}\n",
    "\n",
    "#rf_cv_model = GridSearchCV(rf_model , rf_params , cv = 10 , n_jobs = -1 , verbose = 2)\n",
    "\n",
    "#rf_cv_model.fit(x_train, y_train)"
   ]
  },
  {
   "cell_type": "code",
   "execution_count": 100,
   "id": "a398eefc",
   "metadata": {
    "execution": {
     "iopub.execute_input": "2021-08-03T07:01:29.153218Z",
     "iopub.status.busy": "2021-08-03T07:01:29.152613Z",
     "iopub.status.idle": "2021-08-03T07:01:29.155466Z",
     "shell.execute_reply": "2021-08-03T07:01:29.155974Z",
     "shell.execute_reply.started": "2021-08-03T06:31:47.572374Z"
    },
    "papermill": {
     "duration": 0.165997,
     "end_time": "2021-08-03T07:01:29.156131",
     "exception": false,
     "start_time": "2021-08-03T07:01:28.990134",
     "status": "completed"
    },
    "tags": []
   },
   "outputs": [],
   "source": [
    "#print(\"Best Parameters: \" + str(rf_cv_model.best_params_))"
   ]
  },
  {
   "cell_type": "markdown",
   "id": "cac61f3b",
   "metadata": {
    "papermill": {
     "duration": 0.155992,
     "end_time": "2021-08-03T07:01:29.471924",
     "exception": false,
     "start_time": "2021-08-03T07:01:29.315932",
     "status": "completed"
    },
    "tags": []
   },
   "source": [
    "**Optimized Model**"
   ]
  },
  {
   "cell_type": "code",
   "execution_count": 101,
   "id": "7640971b",
   "metadata": {
    "execution": {
     "iopub.execute_input": "2021-08-03T07:01:29.798064Z",
     "iopub.status.busy": "2021-08-03T07:01:29.797405Z",
     "iopub.status.idle": "2021-08-03T07:01:34.855379Z",
     "shell.execute_reply": "2021-08-03T07:01:34.855888Z",
     "shell.execute_reply.started": "2021-08-03T06:31:47.583786Z"
    },
    "papermill": {
     "duration": 5.222336,
     "end_time": "2021-08-03T07:01:34.856081",
     "exception": false,
     "start_time": "2021-08-03T07:01:29.633745",
     "status": "completed"
    },
    "tags": []
   },
   "outputs": [],
   "source": [
    "rf_model = RandomForestClassifier(max_features = \"auto\" , max_depth = 19,\n",
    "                                  random_state = 44 , n_estimators = 1000)\n",
    "\n",
    "opt_rf = rf_model.fit(x_train, y_train)"
   ]
  },
  {
   "cell_type": "code",
   "execution_count": 102,
   "id": "f99af500",
   "metadata": {
    "execution": {
     "iopub.execute_input": "2021-08-03T07:01:35.177890Z",
     "iopub.status.busy": "2021-08-03T07:01:35.177274Z",
     "iopub.status.idle": "2021-08-03T07:01:35.311985Z",
     "shell.execute_reply": "2021-08-03T07:01:35.311436Z",
     "shell.execute_reply.started": "2021-08-03T06:31:52.871107Z"
    },
    "papermill": {
     "duration": 0.297272,
     "end_time": "2021-08-03T07:01:35.312132",
     "exception": false,
     "start_time": "2021-08-03T07:01:35.014860",
     "status": "completed"
    },
    "tags": []
   },
   "outputs": [
    {
     "data": {
      "text/plain": [
       "0.91875"
      ]
     },
     "execution_count": 102,
     "metadata": {},
     "output_type": "execute_result"
    }
   ],
   "source": [
    "y_pred_rf = opt_rf.predict(x_test)\n",
    "accuracy_score(y_test, y_pred_rf)"
   ]
  },
  {
   "cell_type": "code",
   "execution_count": 103,
   "id": "989bb766",
   "metadata": {
    "execution": {
     "iopub.execute_input": "2021-08-03T07:01:35.637451Z",
     "iopub.status.busy": "2021-08-03T07:01:35.636848Z",
     "iopub.status.idle": "2021-08-03T07:01:35.644172Z",
     "shell.execute_reply": "2021-08-03T07:01:35.644790Z",
     "shell.execute_reply.started": "2021-08-03T06:31:53.015653Z"
    },
    "papermill": {
     "duration": 0.173307,
     "end_time": "2021-08-03T07:01:35.644944",
     "exception": false,
     "start_time": "2021-08-03T07:01:35.471637",
     "status": "completed"
    },
    "tags": []
   },
   "outputs": [
    {
     "name": "stdout",
     "output_type": "stream",
     "text": [
      "              precision    recall  f1-score   support\n",
      "\n",
      "           0       0.96      0.95      0.95       273\n",
      "           1       0.71      0.74      0.73        47\n",
      "\n",
      "    accuracy                           0.92       320\n",
      "   macro avg       0.84      0.85      0.84       320\n",
      "weighted avg       0.92      0.92      0.92       320\n",
      "\n"
     ]
    }
   ],
   "source": [
    "print(classification_report(y_test , y_pred_rf))"
   ]
  },
  {
   "cell_type": "code",
   "execution_count": 104,
   "id": "7da61177",
   "metadata": {
    "execution": {
     "iopub.execute_input": "2021-08-03T07:01:35.965973Z",
     "iopub.status.busy": "2021-08-03T07:01:35.965392Z",
     "iopub.status.idle": "2021-08-03T07:01:36.202703Z",
     "shell.execute_reply": "2021-08-03T07:01:36.203149Z",
     "shell.execute_reply.started": "2021-08-03T06:31:53.027939Z"
    },
    "papermill": {
     "duration": 0.398365,
     "end_time": "2021-08-03T07:01:36.203323",
     "exception": false,
     "start_time": "2021-08-03T07:01:35.804958",
     "status": "completed"
    },
    "tags": []
   },
   "outputs": [
    {
     "data": {
      "image/png": "[encoded data removed]",
      "text/plain": [
       "<Figure size 432x288 with 2 Axes>"
      ]
     },
     "metadata": {},
     "output_type": "display_data"
    }
   ],
   "source": [
    "score = round(accuracy_score(y_test, y_pred_rf), 6)\n",
    "cm = confusion_matrix(y_test, y_pred_rf)\n",
    "sns.heatmap(cm, annot = True, fmt = \".0f\")\n",
    "plt.xlabel(\"Predicted Values\")\n",
    "plt.ylabel(\"Actual Values\")\n",
    "plt.title(\"Accuracy Score: {0}\".format(score), size = 15)\n",
    "plt.show()"
   ]
  },
  {
   "cell_type": "markdown",
   "id": "b858e2df",
   "metadata": {
    "papermill": {
     "duration": 0.161305,
     "end_time": "2021-08-03T07:01:36.527012",
     "exception": false,
     "start_time": "2021-08-03T07:01:36.365707",
     "status": "completed"
    },
    "tags": []
   },
   "source": [
    "#### XGBoost"
   ]
  },
  {
   "cell_type": "code",
   "execution_count": 105,
   "id": "40627774",
   "metadata": {
    "execution": {
     "iopub.execute_input": "2021-08-03T07:01:36.854086Z",
     "iopub.status.busy": "2021-08-03T07:01:36.853258Z",
     "iopub.status.idle": "2021-08-03T07:01:37.102471Z",
     "shell.execute_reply": "2021-08-03T07:01:37.101802Z",
     "shell.execute_reply.started": "2021-08-03T06:31:53.280024Z"
    },
    "papermill": {
     "duration": 0.413696,
     "end_time": "2021-08-03T07:01:37.102608",
     "exception": false,
     "start_time": "2021-08-03T07:01:36.688912",
     "status": "completed"
    },
    "tags": []
   },
   "outputs": [
    {
     "name": "stdout",
     "output_type": "stream",
     "text": [
      "[07:01:36] WARNING: ../src/learner.cc:1095: Starting in XGBoost 1.3.0, the default evaluation metric used with the objective 'binary:logistic' was changed from 'error' to 'logloss'. Explicitly set eval_metric if you'd like to restore the old behavior.\n"
     ]
    }
   ],
   "source": [
    "xgb = XGBClassifier()\n",
    "xgb_model = xgb.fit(x_train , y_train)"
   ]
  },
  {
   "cell_type": "code",
   "execution_count": 106,
   "id": "0118bc7b",
   "metadata": {
    "execution": {
     "iopub.execute_input": "2021-08-03T07:01:37.431096Z",
     "iopub.status.busy": "2021-08-03T07:01:37.430510Z",
     "iopub.status.idle": "2021-08-03T07:01:37.438737Z",
     "shell.execute_reply": "2021-08-03T07:01:37.439874Z",
     "shell.execute_reply.started": "2021-08-03T06:31:53.57365Z"
    },
    "papermill": {
     "duration": 0.175106,
     "end_time": "2021-08-03T07:01:37.440054",
     "exception": false,
     "start_time": "2021-08-03T07:01:37.264948",
     "status": "completed"
    },
    "tags": []
   },
   "outputs": [
    {
     "data": {
      "text/plain": [
       "0.90625"
      ]
     },
     "execution_count": 106,
     "metadata": {},
     "output_type": "execute_result"
    }
   ],
   "source": [
    "y_pred_xgb = xgb_model.predict(x_test)\n",
    "accuracy_score(y_test, y_pred_xgb)"
   ]
  },
  {
   "cell_type": "markdown",
   "id": "1e3d0e53",
   "metadata": {
    "papermill": {
     "duration": 0.163947,
     "end_time": "2021-08-03T07:01:37.768718",
     "exception": false,
     "start_time": "2021-08-03T07:01:37.604771",
     "status": "completed"
    },
    "tags": []
   },
   "source": [
    "#### OPTIMIZATION"
   ]
  },
  {
   "cell_type": "code",
   "execution_count": 107,
   "id": "47f4147f",
   "metadata": {
    "execution": {
     "iopub.execute_input": "2021-08-03T07:01:38.107704Z",
     "iopub.status.busy": "2021-08-03T07:01:38.107012Z",
     "iopub.status.idle": "2021-08-03T07:01:38.109368Z",
     "shell.execute_reply": "2021-08-03T07:01:38.108763Z",
     "shell.execute_reply.started": "2021-08-03T06:31:53.603758Z"
    },
    "papermill": {
     "duration": 0.170809,
     "end_time": "2021-08-03T07:01:38.109495",
     "exception": false,
     "start_time": "2021-08-03T07:01:37.938686",
     "status": "completed"
    },
    "tags": []
   },
   "outputs": [],
   "source": [
    "#xgb_params = {\"n_estimators\": [100 , 500 , 1000] ,\"subsample\": [0.6 , 0.8 , 1.0] ,\"learning_rate\": [0.1 , 0.01 , 0.05]}\n",
    "\n",
    "#xgb_cv_model = GridSearchCV(xgb , xgb_params , cv = 10 , n_jobs = -1 , verbose = 2)\n",
    "\n",
    "#xgb_cv_model.fit(x_train, y_train)"
   ]
  },
  {
   "cell_type": "code",
   "execution_count": 108,
   "id": "aca2efdf",
   "metadata": {
    "execution": {
     "iopub.execute_input": "2021-08-03T07:01:38.442646Z",
     "iopub.status.busy": "2021-08-03T07:01:38.442037Z",
     "iopub.status.idle": "2021-08-03T07:01:38.444923Z",
     "shell.execute_reply": "2021-08-03T07:01:38.445486Z",
     "shell.execute_reply.started": "2021-08-03T06:31:53.61076Z"
    },
    "papermill": {
     "duration": 0.171717,
     "end_time": "2021-08-03T07:01:38.445662",
     "exception": false,
     "start_time": "2021-08-03T07:01:38.273945",
     "status": "completed"
    },
    "tags": []
   },
   "outputs": [],
   "source": [
    "#print(\"Best Parameters: \" + str(xgb_cv_model.best_params_))"
   ]
  },
  {
   "cell_type": "markdown",
   "id": "8f08bb65",
   "metadata": {
    "papermill": {
     "duration": 0.164157,
     "end_time": "2021-08-03T07:01:38.774516",
     "exception": false,
     "start_time": "2021-08-03T07:01:38.610359",
     "status": "completed"
    },
    "tags": []
   },
   "source": [
    "**Optimized Model**"
   ]
  },
  {
   "cell_type": "code",
   "execution_count": 109,
   "id": "eaf4d840",
   "metadata": {
    "execution": {
     "iopub.execute_input": "2021-08-03T07:01:39.109741Z",
     "iopub.status.busy": "2021-08-03T07:01:39.109092Z",
     "iopub.status.idle": "2021-08-03T07:01:40.570769Z",
     "shell.execute_reply": "2021-08-03T07:01:40.571296Z",
     "shell.execute_reply.started": "2021-08-03T06:31:53.622483Z"
    },
    "papermill": {
     "duration": 1.630399,
     "end_time": "2021-08-03T07:01:40.571490",
     "exception": false,
     "start_time": "2021-08-03T07:01:38.941091",
     "status": "completed"
    },
    "tags": []
   },
   "outputs": [
    {
     "name": "stdout",
     "output_type": "stream",
     "text": [
      "[07:01:39] WARNING: ../src/learner.cc:1095: Starting in XGBoost 1.3.0, the default evaluation metric used with the objective 'binary:logistic' was changed from 'error' to 'logloss'. Explicitly set eval_metric if you'd like to restore the old behavior.\n"
     ]
    }
   ],
   "source": [
    "xgb = XGBClassifier(n_estimators = 1000 , learning_rate = 0.1 , subsample = 1 , max_depth = 4)\n",
    "opt_xgb =  xgb.fit(x_train,y_train)"
   ]
  },
  {
   "cell_type": "code",
   "execution_count": 110,
   "id": "c3af4a7d",
   "metadata": {
    "execution": {
     "iopub.execute_input": "2021-08-03T07:01:40.902885Z",
     "iopub.status.busy": "2021-08-03T07:01:40.902291Z",
     "iopub.status.idle": "2021-08-03T07:01:40.914877Z",
     "shell.execute_reply": "2021-08-03T07:01:40.915366Z",
     "shell.execute_reply.started": "2021-08-03T06:31:55.095347Z"
    },
    "papermill": {
     "duration": 0.181337,
     "end_time": "2021-08-03T07:01:40.915570",
     "exception": false,
     "start_time": "2021-08-03T07:01:40.734233",
     "status": "completed"
    },
    "tags": []
   },
   "outputs": [
    {
     "data": {
      "text/plain": [
       "0.9125"
      ]
     },
     "execution_count": 110,
     "metadata": {},
     "output_type": "execute_result"
    }
   ],
   "source": [
    "y_pred_xgb = opt_xgb.predict(x_test)\n",
    "accuracy_score(y_test , y_pred_xgb)"
   ]
  },
  {
   "cell_type": "code",
   "execution_count": 111,
   "id": "dee558bc",
   "metadata": {
    "execution": {
     "iopub.execute_input": "2021-08-03T07:01:41.253630Z",
     "iopub.status.busy": "2021-08-03T07:01:41.252979Z",
     "iopub.status.idle": "2021-08-03T07:01:41.260629Z",
     "shell.execute_reply": "2021-08-03T07:01:41.261065Z",
     "shell.execute_reply.started": "2021-08-03T06:31:55.114144Z"
    },
    "papermill": {
     "duration": 0.177396,
     "end_time": "2021-08-03T07:01:41.261224",
     "exception": false,
     "start_time": "2021-08-03T07:01:41.083828",
     "status": "completed"
    },
    "tags": []
   },
   "outputs": [
    {
     "name": "stdout",
     "output_type": "stream",
     "text": [
      "              precision    recall  f1-score   support\n",
      "\n",
      "           0       0.96      0.94      0.95       273\n",
      "           1       0.69      0.74      0.71        47\n",
      "\n",
      "    accuracy                           0.91       320\n",
      "   macro avg       0.82      0.84      0.83       320\n",
      "weighted avg       0.92      0.91      0.91       320\n",
      "\n"
     ]
    }
   ],
   "source": [
    "print(classification_report(y_test , y_pred_xgb))"
   ]
  },
  {
   "cell_type": "code",
   "execution_count": 112,
   "id": "40016b6c",
   "metadata": {
    "execution": {
     "iopub.execute_input": "2021-08-03T07:01:41.597777Z",
     "iopub.status.busy": "2021-08-03T07:01:41.596775Z",
     "iopub.status.idle": "2021-08-03T07:01:41.835745Z",
     "shell.execute_reply": "2021-08-03T07:01:41.834950Z",
     "shell.execute_reply.started": "2021-08-03T06:31:55.128932Z"
    },
    "papermill": {
     "duration": 0.410054,
     "end_time": "2021-08-03T07:01:41.835965",
     "exception": false,
     "start_time": "2021-08-03T07:01:41.425911",
     "status": "completed"
    },
    "tags": []
   },
   "outputs": [
    {
     "data": {
      "image/png": "[encoded data removed]",
      "text/plain": [
       "<Figure size 432x288 with 2 Axes>"
      ]
     },
     "metadata": {},
     "output_type": "display_data"
    }
   ],
   "source": [
    "score = round(accuracy_score(y_test, y_pred_xgb), 6)\n",
    "cm = confusion_matrix(y_test, y_pred_xgb)\n",
    "sns.heatmap(cm, annot = True, fmt = \".0f\")\n",
    "plt.xlabel(\"Predicted Values\")\n",
    "plt.ylabel(\"Actual Values\")\n",
    "plt.title(\"Accuracy Score: {0}\".format(score), size = 15)\n",
    "plt.show()"
   ]
  },
  {
   "cell_type": "markdown",
   "id": "bcd27d4b",
   "metadata": {
    "papermill": {
     "duration": 0.185698,
     "end_time": "2021-08-03T07:01:42.202164",
     "exception": false,
     "start_time": "2021-08-03T07:01:42.016466",
     "status": "completed"
    },
    "tags": []
   },
   "source": [
    "#### MODEL SELECT "
   ]
  },
  {
   "cell_type": "code",
   "execution_count": 113,
   "id": "6e6c15fe",
   "metadata": {
    "execution": {
     "iopub.execute_input": "2021-08-03T07:01:42.574681Z",
     "iopub.status.busy": "2021-08-03T07:01:42.574036Z",
     "iopub.status.idle": "2021-08-03T07:01:43.458277Z",
     "shell.execute_reply": "2021-08-03T07:01:43.457624Z",
     "shell.execute_reply.started": "2021-08-03T06:31:55.377807Z"
    },
    "papermill": {
     "duration": 1.068122,
     "end_time": "2021-08-03T07:01:43.458435",
     "exception": false,
     "start_time": "2021-08-03T07:01:42.390313",
     "status": "completed"
    },
    "tags": []
   },
   "outputs": [
    {
     "name": "stdout",
     "output_type": "stream",
     "text": [
      "----------------------------\n",
      "KNeighborsClassifier:\n",
      "Accuracy: 87.8125%\n",
      "----------------------------\n",
      "LogisticRegression:\n",
      "Accuracy: 80.3125%\n",
      "----------------------------\n",
      "GaussianNB:\n",
      "Accuracy: 72.8125%\n",
      "----------------------------\n",
      "GradientBoostingClassifier:\n",
      "Accuracy: 89.6875%\n",
      "----------------------------\n",
      "SVC:\n",
      "Accuracy: 90.9375%\n",
      "----------------------------\n",
      "MLPClassifier:\n",
      "Accuracy: 89.3750%\n",
      "----------------------------\n",
      "DecisionTreeClassifier:\n",
      "Accuracy: 84.3750%\n",
      "----------------------------\n",
      "LGBMClassifier:\n",
      "Accuracy: 90.9375%\n",
      "----------------------------\n",
      "RandomForestClassifier:\n",
      "Accuracy: 91.8750%\n",
      "----------------------------\n",
      "XGBClassifier:\n",
      "Accuracy: 91.2500%\n"
     ]
    },
    {
     "data": {
      "image/png": "[encoded data removed]",
      "text/plain": [
       "<Figure size 432x288 with 1 Axes>"
      ]
     },
     "metadata": {},
     "output_type": "display_data"
    }
   ],
   "source": [
    "models = [opt_knn , log_model , nb_model , opt_gbm , opt_svc, opt_mlpc , clf_model , opt_lgbm , opt_rf , opt_xgb]\n",
    "result = []\n",
    "results = pd.DataFrame(columns= [\"Models\",\"Accuracy\"])\n",
    "for x in models:\n",
    "    names = x.__class__.__name__\n",
    "    y_pred = x.predict(x_test)\n",
    "    accuracy = accuracy_score(y_test, y_pred)\n",
    "    print(\"-\" * 28)\n",
    "    print(names + \":\" )\n",
    "    print(\"Accuracy: {:.4%}\".format(accuracy))\n",
    "for x in models:\n",
    "    names = x.__class__.__name__\n",
    "    y_preds = x.predict(x_test)\n",
    "    accuracy = accuracy_score(y_test, y_preds)    \n",
    "    result = pd.DataFrame([[names, accuracy * 100]], columns= [\"Models\",\"Accuracy\"])\n",
    "    results = results.append(result)\n",
    "    \n",
    "sns.barplot(x = \"Accuracy\", y = \"Models\", data = results, color = \"g\")\n",
    "plt.xlabel(\"Accuracy %\");"
   ]
  },
  {
   "cell_type": "markdown",
   "id": "ab5e722f",
   "metadata": {
    "papermill": {
     "duration": 0.170033,
     "end_time": "2021-08-03T07:01:43.799434",
     "exception": false,
     "start_time": "2021-08-03T07:01:43.629401",
     "status": "completed"
    },
    "tags": []
   },
   "source": [
    "#### **CONCLUSION**"
   ]
  },
  {
   "cell_type": "markdown",
   "id": "e5820e07",
   "metadata": {
    "papermill": {
     "duration": 0.169218,
     "end_time": "2021-08-03T07:01:44.138490",
     "exception": false,
     "start_time": "2021-08-03T07:01:43.969272",
     "status": "completed"
    },
    "tags": []
   },
   "source": [
    "Best accuracy **%** **91.875** : **Random Forest Classifier**\n",
    "\n",
    "Hope you found this notebook useful! \n",
    "Please leave in comments in case of any questions, concerns, and feedback! Thank you :)\n",
    "\n",
    "**Thanks for attention !**"
   ]
  }
 ],
 "metadata": {
  "kernelspec": {
   "display_name": "Python 3",
   "language": "python",
   "name": "python3"
  },
  "language_info": {
   "codemirror_mode": {
    "name": "ipython",
    "version": 3
   },
   "file_extension": ".py",
   "mimetype": "text/x-python",
   "name": "python",
   "nbconvert_exporter": "python",
   "pygments_lexer": "ipython3",
   "version": "3.7.10"
  },
  "papermill": {
   "default_parameters": {},
   "duration": 595.333411,
   "end_time": "2021-08-03T07:01:45.784192",
   "environment_variables": {},
   "exception": null,
   "input_path": "__notebook__.ipynb",
   "output_path": "__notebook__.ipynb",
   "parameters": {},
   "start_time": "2021-08-03T06:51:50.450781",
   "version": "2.3.3"
  }
 },
 "nbformat": 4,
 "nbformat_minor": 5
}
